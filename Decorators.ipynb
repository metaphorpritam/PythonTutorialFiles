{
  "nbformat": 4,
  "nbformat_minor": 0,
  "metadata": {
    "colab": {
      "name": "Decorators.ipynb",
      "provenance": [],
      "authorship_tag": "ABX9TyMNQrETY6zM9c5gqcyUtmHR",
      "include_colab_link": true
    },
    "kernelspec": {
      "name": "python3",
      "display_name": "Python 3"
    },
    "language_info": {
      "name": "python"
    }
  },
  "cells": [
    {
      "cell_type": "markdown",
      "metadata": {
        "id": "view-in-github",
        "colab_type": "text"
      },
      "source": [
        "<a href=\"https://colab.research.google.com/github/metaphorpritam/PythonTutorialFiles/blob/main/Decorators.ipynb\" target=\"_parent\"><img src=\"https://colab.research.google.com/assets/colab-badge.svg\" alt=\"Open In Colab\"/></a>"
      ]
    },
    {
      "cell_type": "code",
      "execution_count": null,
      "metadata": {
        "colab": {
          "base_uri": "https://localhost:8080/"
        },
        "id": "qcB8t9G26UHt",
        "outputId": "a7612891-4b5f-4dc1-8899-5d5359434818"
      },
      "outputs": [
        {
          "output_type": "stream",
          "name": "stdout",
          "text": [
            "Hi\n"
          ]
        }
      ],
      "source": [
        "# Decorators\n",
        "# Prerequisites: First-Class Functions, Closures, LEGB scope rule\n",
        "\n",
        "\n",
        "# Re-cap of closures\n",
        "def outer_function():\n",
        "  message = 'Hi'\n",
        "\n",
        "  def inner_function():\n",
        "    print(message)\n",
        "\n",
        "  return inner_function()\n",
        "\n",
        "outer_function()"
      ]
    },
    {
      "cell_type": "code",
      "source": [
        "# If we just return the inner_function:-\n",
        "\n",
        "def outer_function():\n",
        "  message = 'Hi'\n",
        "\n",
        "  def inner_function():\n",
        "    print(message)\n",
        "\n",
        "  return inner_function\n",
        "\n",
        "my_func = outer_function() # my_func is the inner_function() waiting to be executed\n",
        "\n",
        "my_func()\n",
        "my_func()\n",
        "my_func()"
      ],
      "metadata": {
        "colab": {
          "base_uri": "https://localhost:8080/"
        },
        "id": "Fp-RhewdBI2M",
        "outputId": "f664eb2e-0517-4c5f-cea5-af52a202de0c"
      },
      "execution_count": null,
      "outputs": [
        {
          "output_type": "stream",
          "name": "stdout",
          "text": [
            "Hi\n",
            "Hi\n",
            "Hi\n"
          ]
        }
      ]
    },
    {
      "cell_type": "code",
      "source": [
        "# Let us pass some variables to the outer_function\n",
        "\n",
        "def outer_function(msg):\n",
        "  message = msg\n",
        "\n",
        "  def inner_function():\n",
        "    print(message)\n",
        "  return inner_function\n",
        "\n",
        "hi_func = outer_function('Hi')\n",
        "bye_func = outer_function('Bye')\n",
        "\n",
        "hi_func()\n",
        "bye_func()"
      ],
      "metadata": {
        "colab": {
          "base_uri": "https://localhost:8080/"
        },
        "id": "9mRePRCMBhMK",
        "outputId": "26c02fb2-11fa-4d56-dbbc-1e2935572d49"
      },
      "execution_count": null,
      "outputs": [
        {
          "output_type": "stream",
          "name": "stdout",
          "text": [
            "Hi\n",
            "Bye\n"
          ]
        }
      ]
    },
    {
      "cell_type": "code",
      "source": [
        "# We can directly pass the input argument from the outer to the inner_function\n",
        "# That works too!!\n",
        "\n",
        "def outer_function(msg):\n",
        "  def inner_function():\n",
        "    print(msg)\n",
        "  return inner_function\n",
        "\n",
        "hi_func = outer_function('Hi')\n",
        "bye_func = outer_function('Bye')\n",
        "\n",
        "hi_func()\n",
        "bye_func()\n"
      ],
      "metadata": {
        "colab": {
          "base_uri": "https://localhost:8080/"
        },
        "id": "O9CmdAhoGcs9",
        "outputId": "c871b948-0996-4971-d993-a1936d7fec8d"
      },
      "execution_count": null,
      "outputs": [
        {
          "output_type": "stream",
          "name": "stdout",
          "text": [
            "Hi\n",
            "Bye\n"
          ]
        }
      ]
    },
    {
      "cell_type": "code",
      "source": [
        "# Decorator: A function that takes another function as an argument,\n",
        "# adds some kind of functionality, and then returns another function.\n",
        "# All of this without altering the source code of the original function that was passed in!!\n",
        "\n",
        "# A simple example of a decorator function.\n",
        "\n",
        "def decorator_function(original_function):\n",
        "  def wrapper_function():\n",
        "    print('wrapper executed this before: {}'.format(original_function.__name__))\n",
        "    return original_function()\n",
        "  return wrapper_function\n",
        "\n",
        "def display():\n",
        "  print('display function ran.')\n",
        "\n",
        "decorated_display = decorator_function(display)\n",
        "\n",
        "decorated_display()"
      ],
      "metadata": {
        "colab": {
          "base_uri": "https://localhost:8080/"
        },
        "id": "CCKLJsdyKhIN",
        "outputId": "6f6718d8-ff41-4429-e924-fa7073839383"
      },
      "execution_count": null,
      "outputs": [
        {
          "output_type": "stream",
          "name": "stdout",
          "text": [
            "wrapper executed this before: display\n",
            "display function ran.\n"
          ]
        }
      ]
    },
    {
      "cell_type": "code",
      "source": [
        "# In python, we chain decorator function togather using the following syntax\n",
        "@decorator_function # Equivalent to: display = decorator_function(display)\n",
        "def display():\n",
        "  print('display function ran')\n",
        "\n",
        "display()"
      ],
      "metadata": {
        "colab": {
          "base_uri": "https://localhost:8080/"
        },
        "id": "gcarTFKi1Lyi",
        "outputId": "afad44c8-a686-4193-fc62-76be66a2337f"
      },
      "execution_count": null,
      "outputs": [
        {
          "output_type": "stream",
          "name": "stdout",
          "text": [
            "wrapper executed this before: display\n",
            "display function ran\n"
          ]
        }
      ]
    },
    {
      "cell_type": "code",
      "source": [
        "\n",
        "def display_info(name, age):\n",
        "  print('display_info ran with arguments ({}, {})'.format(name, age))\n",
        "\n",
        "display_info('John', 25) # Executes normally\n",
        "\n",
        "# Using decorator on the above function will give error as it needs arguments\n",
        "\n",
        "@decorator_function\n",
        "def display_info(name, age):\n",
        "  print('display_info ran with arguments ({}, {})'.format(name, age))\n",
        "\n",
        "display_info('John', 25) # TypeError: wrapper_function() takes 0 positional arguments but 2 were given\n"
      ],
      "metadata": {
        "colab": {
          "base_uri": "https://localhost:8080/",
          "height": 235
        },
        "id": "9BIDSgZ32jTQ",
        "outputId": "4918f453-9db7-4370-9e41-d472f4bb2c80"
      },
      "execution_count": null,
      "outputs": [
        {
          "output_type": "stream",
          "name": "stdout",
          "text": [
            "display_info ran with arguments (John, 25)\n"
          ]
        },
        {
          "output_type": "error",
          "ename": "TypeError",
          "evalue": "ignored",
          "traceback": [
            "\u001b[0;31m---------------------------------------------------------------------------\u001b[0m",
            "\u001b[0;31mTypeError\u001b[0m                                 Traceback (most recent call last)",
            "\u001b[0;32m<ipython-input-7-6eceb9a5ad41>\u001b[0m in \u001b[0;36m<module>\u001b[0;34m()\u001b[0m\n\u001b[1;32m     11\u001b[0m   \u001b[0mprint\u001b[0m\u001b[0;34m(\u001b[0m\u001b[0;34m'display_info ran with arguments ({}, {})'\u001b[0m\u001b[0;34m.\u001b[0m\u001b[0mformat\u001b[0m\u001b[0;34m(\u001b[0m\u001b[0mname\u001b[0m\u001b[0;34m,\u001b[0m \u001b[0mage\u001b[0m\u001b[0;34m)\u001b[0m\u001b[0;34m)\u001b[0m\u001b[0;34m\u001b[0m\u001b[0;34m\u001b[0m\u001b[0m\n\u001b[1;32m     12\u001b[0m \u001b[0;34m\u001b[0m\u001b[0m\n\u001b[0;32m---> 13\u001b[0;31m \u001b[0mdisplay_info\u001b[0m\u001b[0;34m(\u001b[0m\u001b[0;34m'John'\u001b[0m\u001b[0;34m,\u001b[0m \u001b[0;36m25\u001b[0m\u001b[0;34m)\u001b[0m \u001b[0;31m# TypeError: wrapper_function() takes 0 positional arguments but 2 were given\u001b[0m\u001b[0;34m\u001b[0m\u001b[0;34m\u001b[0m\u001b[0m\n\u001b[0m",
            "\u001b[0;31mTypeError\u001b[0m: wrapper_function() takes 0 positional arguments but 2 were given"
          ]
        }
      ]
    },
    {
      "cell_type": "code",
      "source": [
        "# In order to pass any number of positional/keyword arguments\n",
        "# into the wrapper_function and have it execute the original function\n",
        "# with those arguments\n",
        "# We use: '*args' and '**kwargs'\n",
        "\n",
        "def decorator_function(original_function):\n",
        "  def wrapper_function(*args, **kwargs):\n",
        "    print('wrapper executed this before: {}'.format(original_function.__name__))\n",
        "    return original_function(*args, **kwargs)\n",
        "  return wrapper_function\n",
        "\n",
        "@decorator_function\n",
        "def display_info(name, age):\n",
        "  print('display_info ran with arguments ({}, {})'.format(name, age))\n",
        "\n",
        "display_info('John', 25)\n"
      ],
      "metadata": {
        "colab": {
          "base_uri": "https://localhost:8080/"
        },
        "id": "FR9qdMyB4EY_",
        "outputId": "f96ca2e4-95c8-4ce8-a026-8c4421ba8c61"
      },
      "execution_count": null,
      "outputs": [
        {
          "output_type": "stream",
          "name": "stdout",
          "text": [
            "wrapper executed this before: display_info\n",
            "display_info ran with arguments (John, 25)\n"
          ]
        }
      ]
    },
    {
      "cell_type": "code",
      "source": [
        "# Class Decorator\n",
        "\n",
        "class decorator_class(object):\n",
        "  def __init__(self, original_function):\n",
        "    \"\"\"Initialize the instance with the original_function passed into it\"\"\"\n",
        "    self.original_function = original_function\n",
        "\n",
        "  def __call__(self, *args, **kwargs):\n",
        "    \"\"\"This executes similar to the wrapper function\"\"\"\n",
        "    print('__cal__ executed this before: {}'.format(self.original_function.__name__))\n",
        "    return self.original_function(*args, **kwargs)"
      ],
      "metadata": {
        "id": "e_n73klz5nbx"
      },
      "execution_count": null,
      "outputs": []
    },
    {
      "cell_type": "code",
      "source": [
        "# Using decorator_class\n",
        "\n",
        "help(decorator_class.__init__)\n",
        "help(decorator_class.__call__)\n",
        "\n",
        "@decorator_class\n",
        "def display_info(name, age):\n",
        "  print('display_info ran with arguments ({}, {})'.format(name, age))\n",
        "\n",
        "@decorator_class\n",
        "def display():\n",
        "  print('display function ran')\n",
        "\n",
        "\n",
        "display_info('John', 25)\n",
        "display()"
      ],
      "metadata": {
        "colab": {
          "base_uri": "https://localhost:8080/"
        },
        "id": "1KQC8DewEUZr",
        "outputId": "108e4392-66e0-4e8a-fc1d-0722eee89596"
      },
      "execution_count": null,
      "outputs": [
        {
          "output_type": "stream",
          "name": "stdout",
          "text": [
            "Help on function __init__ in module __main__:\n",
            "\n",
            "__init__(self, original_function)\n",
            "    Initialize the instance with the original_function passed into it\n",
            "\n",
            "Help on function __call__ in module __main__:\n",
            "\n",
            "__call__(self, *args, **kwargs)\n",
            "    This executes similar to the wrapper function\n",
            "\n",
            "__cal__ executed this before: display_info\n",
            "display_info ran with arguments (John, 25)\n",
            "__cal__ executed this before: display\n",
            "display function ran\n"
          ]
        }
      ]
    },
    {
      "cell_type": "code",
      "source": [
        "# Practical Example:- Logging use case\n",
        "import logging\n",
        "\n",
        "\n",
        "def my_logger(orig_func):\n",
        "  \"\"\"A logging function that notes down the arguments and keyword arguments\n",
        "  of the orig_func\"\"\"\n",
        "\n",
        "  logging.basicConfig(filename = '{}.log'.format(orig_func.__name__), level = logging.INFO)\n",
        "\n",
        "  def wrapper(*args, **kwargs):\n",
        "    logging.info(\n",
        "        'Ran with args: {}, and kwargs: {}'.format(args, kwargs))\n",
        "    return orig_func(*args, **kwargs)\n",
        "\n",
        "  return wrapper"
      ],
      "metadata": {
        "id": "UV1wwPZrGDqT"
      },
      "execution_count": null,
      "outputs": []
    },
    {
      "cell_type": "code",
      "source": [
        "# Using my_logger as a function decorator\n",
        "\n",
        "@my_logger\n",
        "def display_info(name, age):\n",
        "  print('display_info ran with arguments ({}, {})'.format(name, age))\n",
        "\n",
        "display_info('Pritam', 27)\n",
        "\n",
        "display_info('Sandipa', 99)\n"
      ],
      "metadata": {
        "colab": {
          "base_uri": "https://localhost:8080/"
        },
        "id": "QG7D_GDhHYVr",
        "outputId": "fee52cb5-3cc6-4ce4-eb3b-dce4aec44378"
      },
      "execution_count": null,
      "outputs": [
        {
          "output_type": "stream",
          "name": "stdout",
          "text": [
            "display_info ran with arguments (Pritam, 27)\n",
            "display_info ran with arguments (Sandipa, 99)\n"
          ]
        }
      ]
    },
    {
      "cell_type": "code",
      "source": [
        "# Practical Example:- Timing function runtime\n",
        "import time\n",
        "def my_timer(orig_func):\n",
        "  def wrapper(*args, **kwargs):\n",
        "    t1 = time.time()\n",
        "    result = orig_func(*args, **kwargs)\n",
        "    t2 = time.time() - t1\n",
        "    print('{} ran in: {} sec'.format(orig_func.__name__, t2))\n",
        "    return result\n",
        "\n",
        "  return wrapper\n"
      ],
      "metadata": {
        "id": "ezaLbnUGINgv"
      },
      "execution_count": null,
      "outputs": []
    },
    {
      "cell_type": "code",
      "source": [
        "@my_timer\n",
        "def display_info(name, age):\n",
        "  time.sleep(1)\n",
        "  print('display_info ran with arguments ({}, {})'.format(name, age))\n",
        "\n",
        "display_info('Pritam', 27)\n"
      ],
      "metadata": {
        "colab": {
          "base_uri": "https://localhost:8080/"
        },
        "id": "0zTUQp-qJTcH",
        "outputId": "d15583eb-a610-4a1a-d145-74ba2e2af184"
      },
      "execution_count": null,
      "outputs": [
        {
          "output_type": "stream",
          "name": "stdout",
          "text": [
            "display_info ran with arguments (Pritam, 27)\n",
            "display_info ran in: 1.0026671886444092 sec\n"
          ]
        }
      ]
    },
    {
      "cell_type": "code",
      "source": [
        "# Chaining decorators\n",
        "\n",
        "@my_timer\n",
        "@my_logger\n",
        "def display_info(name, age):\n",
        "  time.sleep(1)\n",
        "  print('display_info ran with arguments ({}, {})'.format(name, age))\n",
        "\n",
        "display_info('Pritam', 27)"
      ],
      "metadata": {
        "colab": {
          "base_uri": "https://localhost:8080/"
        },
        "id": "diAdxAB3JxFB",
        "outputId": "f52e5b7c-ee7e-47f9-f219-b46aa3d8be5c"
      },
      "execution_count": null,
      "outputs": [
        {
          "output_type": "stream",
          "name": "stdout",
          "text": [
            "display_info ran with arguments (Pritam, 27)\n",
            "wrapper ran in: 1.0021352767944336 sec\n"
          ]
        }
      ]
    },
    {
      "cell_type": "code",
      "source": [
        "@my_logger\n",
        "@my_timer\n",
        "def display_info(name, age):\n",
        "  time.sleep(1)\n",
        "  print('display_info ran with arguments ({}, {})'.format(name, age))\n",
        "\n",
        "display_info('Pritam', 27)\n",
        "\n",
        "# Note the discrepency if we change the order of stacking the decorator function"
      ],
      "metadata": {
        "colab": {
          "base_uri": "https://localhost:8080/"
        },
        "id": "VsYoQVouKMF_",
        "outputId": "8c2490a7-60bf-411e-c32c-8d439cca738c"
      },
      "execution_count": null,
      "outputs": [
        {
          "output_type": "stream",
          "name": "stdout",
          "text": [
            "display_info ran with arguments (Pritam, 27)\n",
            "display_info ran in: 1.001840353012085 sec\n"
          ]
        }
      ]
    }
  ]
}