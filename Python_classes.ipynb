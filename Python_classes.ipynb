{
  "nbformat": 4,
  "nbformat_minor": 0,
  "metadata": {
    "colab": {
      "name": "Python_classes.ipynb",
      "provenance": []
    },
    "kernelspec": {
      "name": "python3",
      "display_name": "Python 3"
    },
    "language_info": {
      "name": "python"
    }
  },
  "cells": [
    {
      "cell_type": "code",
      "execution_count": null,
      "metadata": {
        "id": "NW5xfqUy1hCL"
      },
      "outputs": [],
      "source": [
        "class Employee:\n",
        "\n",
        "  raise_amount = 1.04\n",
        "  num_of_emps = 0\n",
        "\n",
        "  def __init__(self, first, last, pay):\n",
        "    self.first = first\n",
        "    self.last = last\n",
        "    self.pay = pay\n",
        "    self.email = first + '.' + last + '@company.com'\n",
        "\n",
        "    Employee.num_of_emps += 1\n",
        "\n",
        "  def fullname(self):\n",
        "    return '{} {}'.format(self.first, self.last)\n",
        "\n",
        "  def apply_raise(self):\n",
        "    self.pay = int(self.pay)*self.raise_amount\n",
        "\n",
        "  @classmethod\n",
        "  def set_raise_amt(cls, amount):\n",
        "    cls.raise_amount = amount\n",
        "\n",
        "  @classmethod\n",
        "  def from_string(cls, emp_str):\n",
        "    first, last, pay = emp_str.split('-')\n",
        "    return cls(first, last, pay)\n",
        "\n"
      ]
    },
    {
      "cell_type": "code",
      "source": [
        "emp_1 = Employee('Pritam', 'Sarkar', '49500')\n",
        "emp_2 = Employee('Ankur', 'Vaibhav', '48500')\n",
        "\n",
        "print(emp_1.fullname())\n",
        "print(emp_2.fullname())\n",
        "emp_2.apply_raise()\n",
        "print(emp_2.pay)\n",
        "print(Employee.num_of_emps)"
      ],
      "metadata": {
        "colab": {
          "base_uri": "https://localhost:8080/"
        },
        "id": "xQsnbt7C3Z0r",
        "outputId": "3ffbdbd0-b036-4eb4-a6ad-47f530e1ad80"
      },
      "execution_count": null,
      "outputs": [
        {
          "output_type": "stream",
          "name": "stdout",
          "text": [
            "Pritam Sarkar\n",
            "Ankur Vaibhav\n",
            "50440.0\n",
            "2\n"
          ]
        }
      ]
    },
    {
      "cell_type": "code",
      "source": [
        "print(Employee.__dict__)"
      ],
      "metadata": {
        "colab": {
          "base_uri": "https://localhost:8080/"
        },
        "id": "6xyvF9x57vrm",
        "outputId": "e24c0a3f-3f7a-4d66-fd39-19621a98778b"
      },
      "execution_count": null,
      "outputs": [
        {
          "output_type": "stream",
          "name": "stdout",
          "text": [
            "{'__module__': '__main__', 'raise_amount': 1.04, 'num_of_emps': 2, '__init__': <function Employee.__init__ at 0x7f9715f09680>, 'fullname': <function Employee.fullname at 0x7f9715f09cb0>, 'apply_raise': <function Employee.apply_raise at 0x7f9715f090e0>, 'set_raise_amt': <classmethod object at 0x7f9715f0da90>, 'from_string': <classmethod object at 0x7f9715f0da50>, '__dict__': <attribute '__dict__' of 'Employee' objects>, '__weakref__': <attribute '__weakref__' of 'Employee' objects>, '__doc__': None}\n"
          ]
        }
      ]
    },
    {
      "cell_type": "code",
      "source": [
        "print(Employee.raise_amount)\n",
        "print(emp_1.raise_amount)\n",
        "print(emp_2.raise_amount)"
      ],
      "metadata": {
        "colab": {
          "base_uri": "https://localhost:8080/"
        },
        "id": "UShn0yZ6A2W2",
        "outputId": "b9cf5537-43be-47e3-a541-b360dc439578"
      },
      "execution_count": null,
      "outputs": [
        {
          "output_type": "stream",
          "name": "stdout",
          "text": [
            "1.04\n",
            "1.04\n",
            "1.04\n"
          ]
        }
      ]
    },
    {
      "cell_type": "code",
      "source": [
        "emp_1.raise_amount = 1.06"
      ],
      "metadata": {
        "id": "O2S0BA-8BGL1"
      },
      "execution_count": null,
      "outputs": []
    },
    {
      "cell_type": "code",
      "source": [
        "print(Employee.raise_amount)\n",
        "print(emp_1.raise_amount)\n",
        "print(emp_2.raise_amount)"
      ],
      "metadata": {
        "colab": {
          "base_uri": "https://localhost:8080/"
        },
        "id": "QsNo-KBZBMu_",
        "outputId": "2202ed48-b2fb-4802-9c87-f0d3fadc5317"
      },
      "execution_count": null,
      "outputs": [
        {
          "output_type": "stream",
          "name": "stdout",
          "text": [
            "1.04\n",
            "1.06\n",
            "1.04\n"
          ]
        }
      ]
    },
    {
      "cell_type": "code",
      "source": [
        "Employee.set_raise_amt(1.05)"
      ],
      "metadata": {
        "id": "6uLh9xJ2BOQW"
      },
      "execution_count": null,
      "outputs": []
    },
    {
      "cell_type": "code",
      "source": [
        "print(Employee.raise_amount)\n",
        "print(emp_1.raise_amount)\n",
        "print(emp_2.raise_amount)"
      ],
      "metadata": {
        "colab": {
          "base_uri": "https://localhost:8080/"
        },
        "id": "ZwH-QqL3BWnP",
        "outputId": "472fa7d4-3fa6-4295-ca47-81f7bcf2939e"
      },
      "execution_count": null,
      "outputs": [
        {
          "output_type": "stream",
          "name": "stdout",
          "text": [
            "1.05\n",
            "1.06\n",
            "1.05\n"
          ]
        }
      ]
    },
    {
      "cell_type": "code",
      "source": [
        "emp_1.set_raise_amt(1.07)"
      ],
      "metadata": {
        "id": "vAR0xhk-BsXW"
      },
      "execution_count": null,
      "outputs": []
    },
    {
      "cell_type": "code",
      "source": [
        "print(Employee.raise_amount)\n",
        "print(emp_1.raise_amount)\n",
        "print(emp_2.raise_amount)"
      ],
      "metadata": {
        "colab": {
          "base_uri": "https://localhost:8080/"
        },
        "id": "-DWdajaCBxzG",
        "outputId": "9c57db2a-aae4-42ba-d324-2952f9806cc1"
      },
      "execution_count": null,
      "outputs": [
        {
          "output_type": "stream",
          "name": "stdout",
          "text": [
            "1.07\n",
            "1.06\n",
            "1.07\n"
          ]
        }
      ]
    },
    {
      "cell_type": "code",
      "source": [
        "emp_str_1 = 'Sanchit-Uke-60000'\n",
        "first, last, pay = emp_str_1.split('-')\n",
        "new_emp_1 = Employee(first, last, pay)"
      ],
      "metadata": {
        "id": "y4EW4ZE7CeqA"
      },
      "execution_count": null,
      "outputs": []
    },
    {
      "cell_type": "code",
      "source": [
        "print(new_emp_1.email)\n",
        "print(new_emp_1.pay)"
      ],
      "metadata": {
        "colab": {
          "base_uri": "https://localhost:8080/"
        },
        "id": "yp7TRKuvC5Cu",
        "outputId": "52a2d3d8-8236-4354-8f83-1ac4bbbc3f8d"
      },
      "execution_count": null,
      "outputs": [
        {
          "output_type": "stream",
          "name": "stdout",
          "text": [
            "Sanchit.Uke@company.com\n",
            "60000\n"
          ]
        }
      ]
    },
    {
      "cell_type": "code",
      "source": [
        "emp_str_2 = 'Ankit-Kolpe-40000'\n",
        "new_emp_2 = Employee.from_string(emp_str_2)"
      ],
      "metadata": {
        "id": "1J9N5W7UIf-E"
      },
      "execution_count": null,
      "outputs": []
    },
    {
      "cell_type": "code",
      "source": [
        "print(new_emp_2.email)\n",
        "print(new_emp_2.pay)"
      ],
      "metadata": {
        "colab": {
          "base_uri": "https://localhost:8080/"
        },
        "id": "K01jpWgFIzCG",
        "outputId": "c8e3b544-66bf-4670-c4ae-2c7b8eaec7e8"
      },
      "execution_count": null,
      "outputs": [
        {
          "output_type": "stream",
          "name": "stdout",
          "text": [
            "Ankit.Kolpe@company.com\n",
            "40000\n"
          ]
        }
      ]
    }
  ]
}