{
  "nbformat": 4,
  "nbformat_minor": 0,
  "metadata": {
    "colab": {
      "name": "Python Iterables and Generators.ipynb",
      "provenance": [],
      "collapsed_sections": []
    },
    "kernelspec": {
      "name": "python3",
      "display_name": "Python 3"
    },
    "language_info": {
      "name": "python"
    }
  },
  "cells": [
    {
      "cell_type": "code",
      "execution_count": null,
      "metadata": {
        "colab": {
          "base_uri": "https://localhost:8080/"
        },
        "id": "2e-0ukc73sRj",
        "outputId": "e697b22d-eb3b-4332-9fef-bc1a590e9dd8"
      },
      "outputs": [
        {
          "output_type": "stream",
          "name": "stdout",
          "text": [
            "1\n",
            "2\n",
            "3\n"
          ]
        }
      ],
      "source": [
        "# A list is iterable but it is not an interator??\n",
        "#Iterable is something that can be looped over: Like List\n",
        "nums = [1, 2, 3]\n",
        "for num in nums: print(num)"
      ]
    },
    {
      "cell_type": "code",
      "source": [
        "# Every Interable has __iter__() dunder Methods/magic methods/Special methods\n",
        "print('__iter__' in dir(nums))\n",
        "#Iterator is an object with a state which remembers where it is during iterations. \n",
        "#An iterator object has __next__() in it's directory of methods."
      ],
      "metadata": {
        "colab": {
          "base_uri": "https://localhost:8080/"
        },
        "id": "SHwPJ7_lCfZr",
        "outputId": "24f15e76-c8aa-4c03-c369-257faef759b3"
      },
      "execution_count": null,
      "outputs": [
        {
          "output_type": "stream",
          "name": "stdout",
          "text": [
            "True\n"
          ]
        }
      ]
    },
    {
      "cell_type": "code",
      "source": [
        "nums = [1, 2, 3, 4, 5]\n",
        "#The iterable method returns an iterator\n",
        "# And interables themselves are interators\n",
        "i_nums = nums.__iter__() # Or iter(nums)\n",
        "print(i_nums)\n",
        "print('__next__' in dir(i_nums))\n",
        "print('__iter__' in dir(i_nums))"
      ],
      "metadata": {
        "colab": {
          "base_uri": "https://localhost:8080/"
        },
        "id": "zjmK0TBpEnPb",
        "outputId": "b9fa655c-6661-4c01-c9c0-325f1ba655dc"
      },
      "execution_count": null,
      "outputs": [
        {
          "output_type": "stream",
          "name": "stdout",
          "text": [
            "<list_iterator object at 0x7fcb93ae7dd0>\n",
            "True\n",
            "True\n"
          ]
        }
      ]
    },
    {
      "cell_type": "code",
      "source": [
        "print(next(i_nums))"
      ],
      "metadata": {
        "colab": {
          "base_uri": "https://localhost:8080/"
        },
        "id": "fwW6L8_rHMAN",
        "outputId": "ead02654-3fdf-4dc6-a5f4-23d01338a711"
      },
      "execution_count": null,
      "outputs": [
        {
          "output_type": "stream",
          "name": "stdout",
          "text": [
            "1\n"
          ]
        }
      ]
    },
    {
      "cell_type": "code",
      "source": [
        "print(next(i_nums))\n",
        "print(next(i_nums))\n",
        "print(next(i_nums))\n",
        "print(next(i_nums))\n",
        "#print(next(i_nums)) This one gives error: 'StopIteration' exception. Iterator has been exhausted."
      ],
      "metadata": {
        "colab": {
          "base_uri": "https://localhost:8080/"
        },
        "id": "W5hd7VX-HZOR",
        "outputId": "434ccfd7-0b93-49e7-e4c6-aa58a7fa9bb6"
      },
      "execution_count": null,
      "outputs": [
        {
          "output_type": "stream",
          "name": "stdout",
          "text": [
            "2\n",
            "3\n",
            "4\n",
            "5\n"
          ]
        }
      ]
    },
    {
      "cell_type": "code",
      "source": [
        "#Another way to understand iteration \n",
        "#Iterators only goes forward\n",
        "nums = [1, 2, 3, 4]\n",
        "\n",
        "i_nums = iter(nums)\n",
        "while True:\n",
        "  try:\n",
        "    item = next(i_nums)\n",
        "    print(item)\n",
        "\n",
        "  except StopIteration:\n",
        "    break"
      ],
      "metadata": {
        "colab": {
          "base_uri": "https://localhost:8080/"
        },
        "id": "_b8LYmHXH3Ph",
        "outputId": "59d9e9b5-584a-4389-f6eb-ea314b617ff4"
      },
      "execution_count": null,
      "outputs": [
        {
          "output_type": "stream",
          "name": "stdout",
          "text": [
            "1\n",
            "2\n",
            "3\n",
            "4\n"
          ]
        }
      ]
    },
    {
      "cell_type": "code",
      "source": [
        "class MyRange:\n",
        "\n",
        "  def __init__(self, start, end):\n",
        "    self.value = start\n",
        "    self.end = end\n",
        "\n",
        "  def __iter__(self):\n",
        "    return self\n",
        "  def __next__(self):\n",
        "    if self.value >= self.end:\n",
        "      raise StopIteration\n",
        "    current = self.value\n",
        "    self.value +=1\n",
        "    return current"
      ],
      "metadata": {
        "id": "MLpaHo1MJpnc"
      },
      "execution_count": null,
      "outputs": []
    },
    {
      "cell_type": "code",
      "source": [
        "nums = MyRange(1, 10)\n",
        "for num in nums: print(num)"
      ],
      "metadata": {
        "colab": {
          "base_uri": "https://localhost:8080/"
        },
        "id": "KF6y45yJLfjJ",
        "outputId": "ce5e0fbf-bbc6-45bd-9e2f-9548e4370710"
      },
      "execution_count": null,
      "outputs": [
        {
          "output_type": "stream",
          "name": "stdout",
          "text": [
            "1\n",
            "2\n",
            "3\n",
            "4\n",
            "5\n",
            "6\n",
            "7\n",
            "8\n",
            "9\n"
          ]
        }
      ]
    },
    {
      "cell_type": "code",
      "source": [
        "nums = MyRange(1, 10)\n",
        "\n",
        "print(next(nums))"
      ],
      "metadata": {
        "colab": {
          "base_uri": "https://localhost:8080/"
        },
        "id": "UAto6UfdLoUm",
        "outputId": "6fda8162-90fd-41f9-dc49-969ae4e77f66"
      },
      "execution_count": null,
      "outputs": [
        {
          "output_type": "stream",
          "name": "stdout",
          "text": [
            "1\n"
          ]
        }
      ]
    },
    {
      "cell_type": "code",
      "source": [
        "print(next(nums))\n",
        "print(next(nums))\n",
        "print(next(nums))\n",
        "print(next(nums))\n",
        "print(next(nums))\n",
        "print(next(nums))"
      ],
      "metadata": {
        "colab": {
          "base_uri": "https://localhost:8080/"
        },
        "id": "Eooez1J8Ly0I",
        "outputId": "64b3f0a4-4ab6-4bd3-8f38-a212047a8df1"
      },
      "execution_count": null,
      "outputs": [
        {
          "output_type": "stream",
          "name": "stdout",
          "text": [
            "2\n",
            "3\n",
            "4\n",
            "5\n",
            "6\n",
            "7\n"
          ]
        }
      ]
    },
    {
      "cell_type": "code",
      "source": [
        "#Watch the generator video before proceeding(15.30)"
      ],
      "metadata": {
        "id": "1MqRUZtLL8zl"
      },
      "execution_count": null,
      "outputs": []
    },
    {
      "cell_type": "code",
      "source": [
        "def square_numbers(nums):\n",
        "  result = []\n",
        "  for i in nums:\n",
        "    result.append(i*i)\n",
        "  return result"
      ],
      "metadata": {
        "id": "bFl4PCu7R8pQ"
      },
      "execution_count": null,
      "outputs": []
    },
    {
      "cell_type": "code",
      "source": [
        "my_nums = square_numbers([1, 2, 3, 4, 5])\n",
        "print(my_nums)"
      ],
      "metadata": {
        "colab": {
          "base_uri": "https://localhost:8080/"
        },
        "id": "zmwT5yz-SIGJ",
        "outputId": "ac5eef53-75e4-4ca1-8a25-f0a4bc198861"
      },
      "execution_count": null,
      "outputs": [
        {
          "output_type": "stream",
          "name": "stdout",
          "text": [
            "[1, 4, 9, 16, 25]\n"
          ]
        }
      ]
    },
    {
      "cell_type": "code",
      "source": [
        "#Using Generators\n",
        "def square_numbers(nums):\n",
        "  for i in nums:\n",
        "    yield (i*i)\n",
        "\n",
        "    "
      ],
      "metadata": {
        "id": "fCUzlhT5Sk2w"
      },
      "execution_count": null,
      "outputs": []
    },
    {
      "cell_type": "code",
      "source": [
        "my_nums = square_numbers([1, 2, 3, 4, 5])\n",
        "print(my_nums)"
      ],
      "metadata": {
        "id": "u17RzNUiS02k",
        "outputId": "19b0c308-d87b-47ff-973c-1d167596d0b3",
        "colab": {
          "base_uri": "https://localhost:8080/"
        }
      },
      "execution_count": null,
      "outputs": [
        {
          "output_type": "stream",
          "name": "stdout",
          "text": [
            "<generator object square_numbers at 0x7fcb97d4f1d0>\n"
          ]
        }
      ]
    },
    {
      "cell_type": "code",
      "source": [
        "print(next(my_nums))"
      ],
      "metadata": {
        "colab": {
          "base_uri": "https://localhost:8080/"
        },
        "id": "44gE_ARfYgh1",
        "outputId": "2238ded3-f9f1-49c6-9a4f-ed785c802e57"
      },
      "execution_count": null,
      "outputs": [
        {
          "output_type": "stream",
          "name": "stdout",
          "text": [
            "1\n"
          ]
        }
      ]
    },
    {
      "cell_type": "code",
      "source": [
        "print(next(my_nums))\n",
        "print(next(my_nums))\n",
        "print(next(my_nums))\n",
        "print(next(my_nums))\n",
        "#print(next(my_nums)) StopIteration:"
      ],
      "metadata": {
        "colab": {
          "base_uri": "https://localhost:8080/",
          "height": 269
        },
        "id": "wkVuJuulZ7k-",
        "outputId": "94e0bfa8-da18-482e-a12c-85870b74221e"
      },
      "execution_count": null,
      "outputs": [
        {
          "output_type": "stream",
          "name": "stdout",
          "text": [
            "4\n",
            "9\n",
            "16\n",
            "25\n"
          ]
        },
        {
          "output_type": "error",
          "ename": "StopIteration",
          "evalue": "ignored",
          "traceback": [
            "\u001b[0;31m---------------------------------------------------------------------------\u001b[0m",
            "\u001b[0;31mStopIteration\u001b[0m                             Traceback (most recent call last)",
            "\u001b[0;32m<ipython-input-17-3021f944829c>\u001b[0m in \u001b[0;36m<module>\u001b[0;34m()\u001b[0m\n\u001b[1;32m      3\u001b[0m \u001b[0mprint\u001b[0m\u001b[0;34m(\u001b[0m\u001b[0mnext\u001b[0m\u001b[0;34m(\u001b[0m\u001b[0mmy_nums\u001b[0m\u001b[0;34m)\u001b[0m\u001b[0;34m)\u001b[0m\u001b[0;34m\u001b[0m\u001b[0;34m\u001b[0m\u001b[0m\n\u001b[1;32m      4\u001b[0m \u001b[0mprint\u001b[0m\u001b[0;34m(\u001b[0m\u001b[0mnext\u001b[0m\u001b[0;34m(\u001b[0m\u001b[0mmy_nums\u001b[0m\u001b[0;34m)\u001b[0m\u001b[0;34m)\u001b[0m\u001b[0;34m\u001b[0m\u001b[0;34m\u001b[0m\u001b[0m\n\u001b[0;32m----> 5\u001b[0;31m \u001b[0mprint\u001b[0m\u001b[0;34m(\u001b[0m\u001b[0mnext\u001b[0m\u001b[0;34m(\u001b[0m\u001b[0mmy_nums\u001b[0m\u001b[0;34m)\u001b[0m\u001b[0;34m)\u001b[0m\u001b[0;34m\u001b[0m\u001b[0;34m\u001b[0m\u001b[0m\n\u001b[0m",
            "\u001b[0;31mStopIteration\u001b[0m: "
          ]
        }
      ]
    },
    {
      "cell_type": "code",
      "source": [
        "#my_nums = square_numbers([1, 2, 3, 4, 5])\n",
        "\n",
        "for num in my_nums:\n",
        "  print(num)"
      ],
      "metadata": {
        "colab": {
          "base_uri": "https://localhost:8080/"
        },
        "id": "6a4sjC4kaEmA",
        "outputId": "0a189e71-4eb2-4d59-b636-5013edf8430a"
      },
      "execution_count": null,
      "outputs": [
        {
          "output_type": "stream",
          "name": "stdout",
          "text": [
            "1\n",
            "4\n",
            "9\n",
            "16\n",
            "25\n"
          ]
        }
      ]
    },
    {
      "cell_type": "code",
      "source": [
        "#Alternative:\n",
        "my_nums = (x*x for x in [1, 2, 3, 4, 5])\n",
        "print(my_nums)\n",
        "print(list(my_nums))"
      ],
      "metadata": {
        "colab": {
          "base_uri": "https://localhost:8080/"
        },
        "id": "xFt-DU3Ga43Z",
        "outputId": "30dd6794-d43d-44e9-fb2d-ce5bf2b43604"
      },
      "execution_count": null,
      "outputs": [
        {
          "output_type": "stream",
          "name": "stdout",
          "text": [
            "<generator object <genexpr> at 0x7fcb93a05a50>\n",
            "[1, 4, 9, 16, 25]\n"
          ]
        }
      ]
    }
  ]
}