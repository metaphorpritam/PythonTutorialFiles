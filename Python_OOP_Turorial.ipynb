{
  "nbformat": 4,
  "nbformat_minor": 0,
  "metadata": {
    "colab": {
      "name": "Python_OOP_Turorial.ipynb",
      "provenance": [],
      "collapsed_sections": [],
      "authorship_tag": "ABX9TyNflqWM6THADDLiFlHGTfFc",
      "include_colab_link": true
    },
    "kernelspec": {
      "name": "python3",
      "display_name": "Python 3"
    },
    "language_info": {
      "name": "python"
    }
  },
  "cells": [
    {
      "cell_type": "markdown",
      "metadata": {
        "id": "view-in-github",
        "colab_type": "text"
      },
      "source": [
        "<a href=\"https://colab.research.google.com/github/metaphorpritam/PythonTutorialFiles/blob/main/Python_OOP_Turorial.ipynb\" target=\"_parent\"><img src=\"https://colab.research.google.com/assets/colab-badge.svg\" alt=\"Open In Colab\"/></a>"
      ]
    },
    {
      "cell_type": "code",
      "execution_count": null,
      "metadata": {
        "colab": {
          "base_uri": "https://localhost:8080/"
        },
        "id": "UQt8VE0EGGS9",
        "outputId": "6572358c-7b99-48d5-8a4a-a68cf9eeb390"
      },
      "outputs": [
        {
          "output_type": "stream",
          "name": "stdout",
          "text": [
            "<__main__.Employee object at 0x7f8142262210>\n",
            "<__main__.Employee object at 0x7f81422621d0>\n"
          ]
        }
      ],
      "source": [
        "#Python Object-Oriented Programming\n",
        "#Class Example\n",
        "class Employee:\n",
        "  pass\n",
        "\n",
        "emp_1 = Employee()\n",
        "emp_2 = Employee()\n",
        "\n",
        "print(emp_1)\n",
        "print(emp_2)"
      ]
    },
    {
      "cell_type": "code",
      "source": [
        "# We can add attributes/variables to instances of our created class Employee\n",
        "emp_1.first = 'Corey'\n",
        "emp_1.last = 'Schafer'\n",
        "emp_1.email = 'Corey.Schafer@company.com'\n",
        "emp_1.pay = 50000\n",
        "\n",
        "emp_2.first = 'Test'\n",
        "emp_2.last = 'User'\n",
        "emp_2.email = 'Test.User@company.com'\n",
        "emp_2.pay = 60000\n",
        "\n",
        "print(emp_1.email)\n",
        "print(emp_2.email)"
      ],
      "metadata": {
        "colab": {
          "base_uri": "https://localhost:8080/"
        },
        "id": "AJjot_JaG8Vf",
        "outputId": "ae868a41-dc57-420a-8c4a-b9683b84465d"
      },
      "execution_count": null,
      "outputs": [
        {
          "output_type": "stream",
          "name": "stdout",
          "text": [
            "Corey.Schafer@company.com\n",
            "Test.User@company.com\n"
          ]
        }
      ]
    },
    {
      "cell_type": "code",
      "source": [
        "# Using __init__() method for instantiating a class\n",
        "\n",
        "class Employee:\n",
        "  def __init__(self, first, last, pay):\n",
        "    self.first = first\n",
        "    self.last = last\n",
        "    self.pay = pay\n",
        "    self.email = first.lower() + '.' + last.lower() + '@company.com'\n",
        "\n",
        "  def fullname(self):\n",
        "    return '{} {}'.format(self.first, self.last)"
      ],
      "metadata": {
        "id": "rAFH8BJfJCe7"
      },
      "execution_count": null,
      "outputs": []
    },
    {
      "cell_type": "code",
      "source": [
        "emp_1 = Employee('Corey', 'Schafer', 50000)\n",
        "emp_2  = Employee('Test', 'User', 60000)\n",
        "\n",
        "print(emp_1.email)\n",
        "print(emp_2.email)"
      ],
      "metadata": {
        "colab": {
          "base_uri": "https://localhost:8080/"
        },
        "id": "x4qRdKLzJg-Y",
        "outputId": "b5cabd41-e327-4561-b04b-ef55982fd219"
      },
      "execution_count": null,
      "outputs": [
        {
          "output_type": "stream",
          "name": "stdout",
          "text": [
            "corey.schafer@company.com\n",
            "test.user@company.com\n"
          ]
        }
      ]
    },
    {
      "cell_type": "code",
      "source": [
        "print('{} {}'.format(emp_1.first, emp_1.last))# Will be replaced by fullname(self) method\n",
        "print(emp_1.fullname())\n",
        "print(Employee.fullname(emp_1)) # Another alternative syntax"
      ],
      "metadata": {
        "colab": {
          "base_uri": "https://localhost:8080/"
        },
        "id": "kYejWV28J6Zh",
        "outputId": "6e39e596-b2e0-47be-e309-b438ff2fb95d"
      },
      "execution_count": null,
      "outputs": [
        {
          "output_type": "stream",
          "name": "stdout",
          "text": [
            "Corey Schafer\n",
            "Corey Schafer\n",
            "Corey Schafer\n"
          ]
        }
      ]
    },
    {
      "cell_type": "code",
      "source": [
        "# Use of class variables\n",
        "\n",
        "class Employee:\n",
        "\n",
        "  num_of_emps = 0 # Class Variable\n",
        "  raise_amount = 1.04 # Class Variable\n",
        "\n",
        "  def __init__(self, first, last, pay):\n",
        "    self.first = first\n",
        "    self.last = last\n",
        "    self.pay = pay\n",
        "    self.email = first.lower() + '.' + last.lower() + '@company.com'\n",
        "    Employee.num_of_emps += 1\n",
        "\n",
        "  def fullname(self):\n",
        "    return '{} {}'.format(self.first, self.last)\n",
        "\n",
        "  def apply_raise(self):\n",
        "    self.pay = int(self.pay)*self.raise_amount\n",
        "    # Using 'self.raise_amount' as if such case arises where an instance can be able set raise_amount for its use"
      ],
      "metadata": {
        "id": "wBJREIlvMrwj"
      },
      "execution_count": null,
      "outputs": []
    },
    {
      "cell_type": "code",
      "source": [
        "emp_1 = Employee('Corey', 'Schafer', 50000)\n",
        "emp_2  = Employee('Test', 'User', 60000)\n",
        "\n",
        "print(emp_1.email)\n",
        "print(emp_2.email)"
      ],
      "metadata": {
        "colab": {
          "base_uri": "https://localhost:8080/"
        },
        "id": "XaC4Si_tOSzV",
        "outputId": "bca68fbd-732a-47a6-be12-05e21fe5ed73"
      },
      "execution_count": null,
      "outputs": [
        {
          "output_type": "stream",
          "name": "stdout",
          "text": [
            "corey.schafer@company.com\n",
            "test.user@company.com\n"
          ]
        }
      ]
    },
    {
      "cell_type": "code",
      "source": [
        "# Test our class variable\n",
        "\n",
        "print(emp_1.pay)\n",
        "emp_1.apply_raise()\n",
        "print(emp_1.pay)\n",
        "print(Employee.num_of_emps)"
      ],
      "metadata": {
        "colab": {
          "base_uri": "https://localhost:8080/"
        },
        "id": "1zmXpAH2PSgU",
        "outputId": "a63a79c3-266f-40ec-aef8-0c89f57f25c6"
      },
      "execution_count": null,
      "outputs": [
        {
          "output_type": "stream",
          "name": "stdout",
          "text": [
            "50000\n",
            "52000.0\n",
            "2\n"
          ]
        }
      ]
    },
    {
      "cell_type": "code",
      "source": [
        "print(Employee.raise_amount)\n",
        "print(emp_1.raise_amount)\n",
        "print(emp_2.raise_amount)"
      ],
      "metadata": {
        "colab": {
          "base_uri": "https://localhost:8080/"
        },
        "id": "FSFYqs0tPfOJ",
        "outputId": "39dfbe61-3be4-4449-d13d-5287e7ab44e2"
      },
      "execution_count": null,
      "outputs": [
        {
          "output_type": "stream",
          "name": "stdout",
          "text": [
            "1.04\n",
            "1.04\n",
            "1.04\n"
          ]
        }
      ]
    },
    {
      "cell_type": "code",
      "source": [
        "# 'raise_amount' being a class variable is present in the class, not in the variable\n",
        "# Unless we try to modify the variable from an instance\n",
        "print('raise_amount' in emp_1.__dict__)\n",
        "print('raise_amount' in Employee.__dict__)\n"
      ],
      "metadata": {
        "colab": {
          "base_uri": "https://localhost:8080/"
        },
        "id": "WMGeDYBTP2dT",
        "outputId": "075eb2f5-683f-46a7-87f0-b1a24152a3a2"
      },
      "execution_count": null,
      "outputs": [
        {
          "output_type": "stream",
          "name": "stdout",
          "text": [
            "False\n",
            "True\n"
          ]
        }
      ]
    },
    {
      "cell_type": "code",
      "source": [
        "# Changing class variable changes it for all instances\n",
        "\n",
        "Employee.raise_amount = 1.05\n",
        "\n",
        "print(Employee.raise_amount)\n",
        "print(emp_1.raise_amount)\n",
        "print(emp_2.raise_amount)"
      ],
      "metadata": {
        "colab": {
          "base_uri": "https://localhost:8080/"
        },
        "id": "ZBMpdQSwQei_",
        "outputId": "58c5e4bd-b8de-49b8-d1e1-e80496a51dcc"
      },
      "execution_count": null,
      "outputs": [
        {
          "output_type": "stream",
          "name": "stdout",
          "text": [
            "1.05\n",
            "1.05\n",
            "1.05\n"
          ]
        }
      ]
    },
    {
      "cell_type": "code",
      "source": [
        "# Trying to change a class variable from an instance\n",
        "\n",
        "emp_1.raise_amount = 1.07 # Will create 'raise_amount' variable for 'emp_1' instance\n",
        "\n",
        "print(Employee.raise_amount)\n",
        "print(emp_1.raise_amount)\n",
        "print(emp_2.raise_amount)\n",
        "print('raise_amount' in emp_1.__dict__)\n",
        "print('raise_amount' in emp_2.__dict__)\n",
        "print('raise_amount' in Employee.__dict__)"
      ],
      "metadata": {
        "colab": {
          "base_uri": "https://localhost:8080/"
        },
        "id": "KU_ny-cvQ0kc",
        "outputId": "5eb95492-81bd-45a8-e294-8970b946acd5"
      },
      "execution_count": null,
      "outputs": [
        {
          "output_type": "stream",
          "name": "stdout",
          "text": [
            "1.05\n",
            "1.07\n",
            "1.05\n",
            "True\n",
            "False\n",
            "True\n"
          ]
        }
      ]
    },
    {
      "cell_type": "code",
      "source": [
        "# Use of class methods using '@classmethod' decorator\n",
        "# Use of static methods using '@staticmethod' decorator\n",
        "class Employee:\n",
        "\n",
        "  num_of_emps = 0 # Class Variable\n",
        "  raise_amount = 1.04 # Class Variable\n",
        "\n",
        "  def __init__(self, first, last, pay):\n",
        "    self.first = first\n",
        "    self.last = last\n",
        "    self.pay = pay\n",
        "    self.email = first.lower() + '.' + last.lower() + '@company.com'\n",
        "    Employee.num_of_emps += 1\n",
        "\n",
        "  def fullname(self):\n",
        "    return '{} {}'.format(self.first, self.last)\n",
        "\n",
        "  def apply_raise(self):\n",
        "    self.pay = int(self.pay)*self.raise_amount\n",
        "\n",
        "  @classmethod\n",
        "  def set_raise_amount(cls, amount):\n",
        "    \"\"\" set_raise_amount is a class method which changes the value of class variable raise_amount\"\"\"\n",
        "    cls.raise_amount = amount\n",
        "\n",
        "  @classmethod\n",
        "  def from_string(cls, emp_str):\n",
        "    \"\"\"Using class method 'from_string' as an alternative constructor.\n",
        "    Here, 'from_string' accepts a string in the format 'first-last-int_pay'\"\"\"\n",
        "    first, last, pay = emp_str.split('-')\n",
        "    return Employee(first, last, pay)\n",
        "\n",
        "  @staticmethod\n",
        "  def is_workday(day):\n",
        "    \"\"\" 'is_workday' is a staticmethod which returns a boolean of the day is a workday.\n",
        "    This is a static method as it does not reference or access the instance or the \n",
        "    class anywhere within the function.method\"\"\"\n",
        "    if day.weekday() == 5 or  day.weekday() == 6:\n",
        "      return False\n",
        "    return True"
      ],
      "metadata": {
        "id": "WLcE7A-UsM_b"
      },
      "execution_count": null,
      "outputs": []
    },
    {
      "cell_type": "code",
      "source": [
        "# Add Instances to our class\n",
        "emp_1 = Employee('Corey', 'Schafer', 50000)\n",
        "emp_2  = Employee('Test', 'User', 60000)\n"
      ],
      "metadata": {
        "id": "A0FXcLQCtEJo"
      },
      "execution_count": null,
      "outputs": []
    },
    {
      "cell_type": "code",
      "source": [
        "print(emp_1.raise_amount)\n",
        "print(emp_2.raise_amount)\n",
        "print(Employee.raise_amount)"
      ],
      "metadata": {
        "colab": {
          "base_uri": "https://localhost:8080/"
        },
        "id": "oSzjJoArtZ8z",
        "outputId": "8271af22-7071-46d3-cb80-896175a55c7e"
      },
      "execution_count": null,
      "outputs": [
        {
          "output_type": "stream",
          "name": "stdout",
          "text": [
            "1.04\n",
            "1.04\n",
            "1.04\n"
          ]
        }
      ]
    },
    {
      "cell_type": "code",
      "source": [
        "# Applying class method 'set_raise_amount'\n",
        "Employee.set_raise_amount(1.07)\n",
        "print(emp_1.raise_amount)\n",
        "print(emp_2.raise_amount)\n",
        "print(Employee.raise_amount)"
      ],
      "metadata": {
        "colab": {
          "base_uri": "https://localhost:8080/"
        },
        "id": "K8OZPXjYtlvG",
        "outputId": "007a9c81-f0be-40a1-d925-f9ebbe34a56d"
      },
      "execution_count": null,
      "outputs": [
        {
          "output_type": "stream",
          "name": "stdout",
          "text": [
            "1.07\n",
            "1.07\n",
            "1.07\n"
          ]
        }
      ]
    },
    {
      "cell_type": "code",
      "source": [
        "# Running class method 'set_raise_amount' from an instance\n",
        "\n",
        "emp_1.set_raise_amount(1.06)\n",
        "\n",
        "print(emp_1.raise_amount)\n",
        "print(emp_2.raise_amount)\n",
        "print(Employee.raise_amount)\n"
      ],
      "metadata": {
        "colab": {
          "base_uri": "https://localhost:8080/"
        },
        "id": "oYnFRe-A1unC",
        "outputId": "81e46c1f-5c06-4b97-d622-699774fd2602"
      },
      "execution_count": null,
      "outputs": [
        {
          "output_type": "stream",
          "name": "stdout",
          "text": [
            "1.06\n",
            "1.06\n",
            "1.06\n"
          ]
        }
      ]
    },
    {
      "cell_type": "code",
      "source": [
        "# Using the alternative class constructor 'from_string' for Employee class\n",
        "emp_str_1 = 'John-Doe-70000'\n",
        "emp_str_2 = 'Steve-Smith-30000'\n",
        "emp_str_3 = 'Jane-Doe-90000'\n",
        "\n",
        "new_emp_1 = Employee.from_string(emp_str_1)\n",
        "new_emp_2 = Employee.from_string(emp_str_2)\n",
        "\n",
        "print(new_emp_1.email)\n",
        "print(new_emp_1.pay)\n",
        "\n",
        "print(new_emp_2.email)\n",
        "print(new_emp_2.pay)"
      ],
      "metadata": {
        "colab": {
          "base_uri": "https://localhost:8080/"
        },
        "id": "G568vFcr2dWG",
        "outputId": "2d23b496-74ae-49c8-f151-1291437b2745"
      },
      "execution_count": null,
      "outputs": [
        {
          "output_type": "stream",
          "name": "stdout",
          "text": [
            "john.doe@company.com\n",
            "70000\n",
            "steve.smith@company.com\n",
            "30000\n"
          ]
        }
      ]
    },
    {
      "cell_type": "code",
      "source": [
        "# Using the static method 'is_workday'\n",
        "\n",
        "import datetime\n",
        "my_date = datetime.date(2016, 7, 10) #Sunday\n",
        "\n",
        "print(Employee.is_workday(my_date))\n",
        "\n",
        "my_date = datetime.date(2016, 7, 11) #Monday\n",
        "\n",
        "print(Employee.is_workday(my_date))\n"
      ],
      "metadata": {
        "colab": {
          "base_uri": "https://localhost:8080/"
        },
        "id": "ZKWREmea8HO-",
        "outputId": "1da22135-22c3-47f2-ae87-88b8b77a20cf"
      },
      "execution_count": null,
      "outputs": [
        {
          "output_type": "stream",
          "name": "stdout",
          "text": [
            "False\n",
            "True\n"
          ]
        }
      ]
    },
    {
      "cell_type": "code",
      "source": [
        "# Tutorial on Python Inheritence....\n",
        "# Parent Class Employee\n",
        "\n",
        "class Employee:\n",
        "\n",
        "  num_of_emps = 0 # Class Variable\n",
        "  raise_amount = 1.04 # Class Variable\n",
        "\n",
        "  def __init__(self, first, last, pay):\n",
        "    self.first = first\n",
        "    self.last = last\n",
        "    self.pay = pay\n",
        "    self.email = first.lower() + '.' + last.lower() + '@company.com'\n",
        "    Employee.num_of_emps += 1\n",
        "\n",
        "  def fullname(self):\n",
        "    return '{} {}'.format(self.first, self.last)\n",
        "\n",
        "  def apply_raise(self):\n",
        "    self.pay = int(self.pay)*self.raise_amount\n",
        "\n",
        "  @classmethod\n",
        "  def set_raise_amount(cls, amount):\n",
        "    \"\"\" set_raise_amount is a class method which changes the value of class variable raise_amount\"\"\"\n",
        "    cls.raise_amount = amount\n",
        "\n",
        "  @classmethod\n",
        "  def from_string(cls, emp_str):\n",
        "    \"\"\"Using class method 'from_string' as an alternative constructor.\n",
        "    Here, 'from_string' accepts a string in the format 'first-last-int_pay'\"\"\"\n",
        "    first, last, pay = emp_str.split('-')\n",
        "    return Employee(first, last, pay)\n",
        "\n",
        "  @staticmethod\n",
        "  def is_workday(day):\n",
        "    \"\"\" 'is_workday' is a staticmethod which returns a boolean of the day is a workday.\n",
        "    This is a static method as it does not reference or access the instance or the \n",
        "    class anywhere within the function.method\"\"\"\n",
        "    if day.weekday() == 5 or  day.weekday() == 6:\n",
        "      return False\n",
        "    return True\n"
      ],
      "metadata": {
        "id": "HOdngGRJM1YQ"
      },
      "execution_count": null,
      "outputs": []
    },
    {
      "cell_type": "code",
      "source": [
        "# Developers and Managers are sub-classes of the class Employee\n",
        "\n",
        "class Developer(Employee):\n",
        "  # Even with no code of its own, the developer class inherits attributes and methods of\n",
        "  # the parent Empolyee class\n",
        "  pass\n",
        "\n",
        "# Read and learn about method resolution order(Related to chain of inheritence in OOP)\n",
        "dev_1 = Developer('Pritam', 'Sarkar', 50000)\n",
        "\n",
        "print(dev_1.email)\n",
        "print(dev_1.fullname())\n",
        "\n",
        "print(help(Developer)) # Will show Method Resolution Order"
      ],
      "metadata": {
        "colab": {
          "base_uri": "https://localhost:8080/"
        },
        "id": "DSkGFxC1NF_H",
        "outputId": "bf68f7d5-ffb0-4a86-c98b-028b547fe44c"
      },
      "execution_count": null,
      "outputs": [
        {
          "output_type": "stream",
          "name": "stdout",
          "text": [
            "pritam.sarkar@company.com\n",
            "Pritam Sarkar\n",
            "Help on class Developer in module __main__:\n",
            "\n",
            "class Developer(Employee)\n",
            " |  Developer(first, last, pay)\n",
            " |  \n",
            " |  Method resolution order:\n",
            " |      Developer\n",
            " |      Employee\n",
            " |      builtins.object\n",
            " |  \n",
            " |  Methods inherited from Employee:\n",
            " |  \n",
            " |  __init__(self, first, last, pay)\n",
            " |      Initialize self.  See help(type(self)) for accurate signature.\n",
            " |  \n",
            " |  apply_raise(self)\n",
            " |  \n",
            " |  fullname(self)\n",
            " |  \n",
            " |  ----------------------------------------------------------------------\n",
            " |  Class methods inherited from Employee:\n",
            " |  \n",
            " |  from_string(emp_str) from builtins.type\n",
            " |      Using class method 'from_string' as an alternative constructor.\n",
            " |      Here, 'from_string' accepts a string in the format 'first-last-int_pay'\n",
            " |  \n",
            " |  set_raise_amount(amount) from builtins.type\n",
            " |      set_raise_amount is a class method which changes the value of class variable raise_amount\n",
            " |  \n",
            " |  ----------------------------------------------------------------------\n",
            " |  Static methods inherited from Employee:\n",
            " |  \n",
            " |  is_workday(day)\n",
            " |      'is_workday' is a staticmethod which returns a boolean of the day is a workday.\n",
            " |      This is a static method as it does not reference or access the instance or the \n",
            " |      class anywhere within the function.method\n",
            " |  \n",
            " |  ----------------------------------------------------------------------\n",
            " |  Data descriptors inherited from Employee:\n",
            " |  \n",
            " |  __dict__\n",
            " |      dictionary for instance variables (if defined)\n",
            " |  \n",
            " |  __weakref__\n",
            " |      list of weak references to the object (if defined)\n",
            " |  \n",
            " |  ----------------------------------------------------------------------\n",
            " |  Data and other attributes inherited from Employee:\n",
            " |  \n",
            " |  num_of_emps = 1\n",
            " |  \n",
            " |  raise_amount = 1.04\n",
            "\n",
            "None\n"
          ]
        }
      ]
    },
    {
      "cell_type": "code",
      "source": [
        "# Let's change raise_amount for the Developer class\n",
        "# Changing such attribute won't affect the parent class\n",
        "\n",
        "class Developer(Employee):\n",
        "  raise_amount = 1.06\n",
        "\n",
        "emp_1 = Employee('Sandipa', 'Halder', 50000)\n",
        "dev_1 = Developer('Pritam', 'Sarkar', 50000)\n",
        "\n",
        "print(dev_1.pay)\n",
        "print(emp_1.pay)\n",
        "dev_1.apply_raise()\n",
        "emp_1.apply_raise()\n",
        "\n",
        "print(dev_1.pay)\n",
        "print(emp_1.pay)"
      ],
      "metadata": {
        "colab": {
          "base_uri": "https://localhost:8080/"
        },
        "id": "qei2h2WhRVwd",
        "outputId": "7b04baf8-4d2b-44a8-8985-6447f214ee13"
      },
      "execution_count": null,
      "outputs": [
        {
          "output_type": "stream",
          "name": "stdout",
          "text": [
            "50000\n",
            "50000\n",
            "53000.0\n",
            "52000.0\n"
          ]
        }
      ]
    },
    {
      "cell_type": "code",
      "source": [
        "# In order to initiate the subclass with more information than our parent class\n",
        "\n",
        "class Developer(Employee):\n",
        "  raise_amount = 1.06 \n",
        "  def __init__(self, first, last, pay, prog_lang):\n",
        "    super().__init__(first, last, pay) # ALternative: Employee.__init__(self, first, last, pay)\n",
        "    self.prog_lang = prog_lang # Extra info for the Developer class\n",
        "\n",
        "dev_1 = Developer('Pritam', 'Sarkar', 50000, 'R')\n",
        "\n",
        "dev_2 = Developer('Corey' ,'Schafer', 60000, 'Python')\n",
        "\n",
        "print(dev_1.email)\n",
        "print(dev_1.prog_lang)\n"
      ],
      "metadata": {
        "colab": {
          "base_uri": "https://localhost:8080/"
        },
        "id": "Ke3U6HwiSJL9",
        "outputId": "212cda1b-8309-4d5e-ab86-6f5a6c898e41"
      },
      "execution_count": null,
      "outputs": [
        {
          "output_type": "stream",
          "name": "stdout",
          "text": [
            "pritam.sarkar@company.com\n",
            "R\n"
          ]
        }
      ]
    },
    {
      "cell_type": "code",
      "source": [
        "# Another child class of Employee\n",
        "\n",
        "class Manager(Employee):\n",
        "\n",
        "  def __init__(self, first, last, pay, employees = None):\n",
        "    super().__init__(first, last, pay)\n",
        "    if employees is None:\n",
        "      self.employees = []\n",
        "    else:\n",
        "      self.employees = employees\n",
        "\n",
        "  def add_emp(self, emp):\n",
        "    if emp not in self.employees:\n",
        "      self.employees.append(emp)\n",
        "\n",
        "  def remove_emp(self, emp):\n",
        "    if emp in self.employees:\n",
        "      self.employees.remove(emp)\n",
        "\n",
        "  def print_emps(self):\n",
        "    for emp in self.employees:\n",
        "      print('---> ', emp.fullname())"
      ],
      "metadata": {
        "id": "dJAOSpO6TzGK"
      },
      "execution_count": null,
      "outputs": []
    },
    {
      "cell_type": "code",
      "source": [
        "mgr_1 = Manager('Sue', 'Smith', 90000, [dev_1])\n",
        "\n",
        "print(mgr_1.email)\n",
        "\n",
        "mgr_1.print_emps()\n",
        "\n",
        "mgr_1.add_emp(dev_2)\n",
        "\n",
        "print(\"After Adding another employee:\")\n",
        "mgr_1.print_emps()\n",
        "\n",
        "print(\"After removing an employee:\")\n",
        "\n",
        "mgr_1.remove_emp(dev_1)\n",
        "mgr_1.print_emps()"
      ],
      "metadata": {
        "colab": {
          "base_uri": "https://localhost:8080/"
        },
        "id": "TkhDmprbVByl",
        "outputId": "9a1bda10-e298-4237-bffe-31d1d43973b7"
      },
      "execution_count": null,
      "outputs": [
        {
          "output_type": "stream",
          "name": "stdout",
          "text": [
            "sue.smith@company.com\n",
            "--->  Pritam Sarkar\n",
            "After Adding another employee:\n",
            "--->  Pritam Sarkar\n",
            "--->  Corey Schafer\n",
            "After removing an employee:\n",
            "--->  Corey Schafer\n"
          ]
        }
      ]
    },
    {
      "cell_type": "code",
      "source": [
        "# Using ' isinstance() ' to find whether an instance belongs to a particular class\n",
        "print(isinstance(mgr_1, Manager))\n",
        "print(isinstance(mgr_1, Employee))\n",
        "print(isinstance(mgr_1, Developer))"
      ],
      "metadata": {
        "colab": {
          "base_uri": "https://localhost:8080/"
        },
        "id": "GTVHZyyYV5n6",
        "outputId": "04e57392-e021-4028-c5f5-59d2efd215c0"
      },
      "execution_count": null,
      "outputs": [
        {
          "output_type": "stream",
          "name": "stdout",
          "text": [
            "True\n",
            "True\n",
            "False\n"
          ]
        }
      ]
    },
    {
      "cell_type": "code",
      "source": [
        "# Using ' issubclass() ' to find whether an class is a subclass of another.\n",
        "print(issubclass(Manager, Employee))\n",
        "print(issubclass(Developer, Employee))\n",
        "print(issubclass(Manager, Developer))"
      ],
      "metadata": {
        "colab": {
          "base_uri": "https://localhost:8080/"
        },
        "id": "l6Xfn02-WRO8",
        "outputId": "8251da2f-52f3-4139-cab6-428d3a491a66"
      },
      "execution_count": null,
      "outputs": [
        {
          "output_type": "stream",
          "name": "stdout",
          "text": [
            "True\n",
            "True\n",
            "False\n"
          ]
        }
      ]
    },
    {
      "cell_type": "code",
      "source": [
        "# Tutorial: Special(Magic/Dunder) Methods\n",
        "# Change built-in behavior and operations\n",
        "# These methods are prefixed and suffixed by '__' or double-underscores(Hence, dunder)\n",
        "# Example:- __init__(), __str__(), __repr__()\n",
        "\n",
        "\n",
        "class Employee:\n",
        "\n",
        "  num_of_emps = 0 # Class Variable\n",
        "  raise_amount = 1.04 # Class Variable\n",
        "\n",
        "  def __init__(self, first, last, pay):\n",
        "    self.first = first\n",
        "    self.last = last\n",
        "    self.pay = pay\n",
        "    self.email = first.lower() + '.' + last.lower() + '@company.com'\n",
        "    Employee.num_of_emps += 1\n",
        "\n",
        "  def __repr__(self):\n",
        "    \"\"\"Output in the format that would re-create an instance of this class\"\"\"\n",
        "    return \"Employee('{}', '{}', {})\".format(self.first, self.last, self.pay)\n",
        "\n",
        "  def __str__(self):\n",
        "    \"\"\"Output is meant to read by the end-user in a meaningful format\"\"\"\n",
        "    return '{} - {}'.format(self.fullname(), self.email)\n",
        "\n",
        "  def __add__(self, other):\n",
        "    \"\"\"Example of how __add__/ '+' can be modified for our class.\n",
        "    Here, pay of self and other are added and returned\"\"\"\n",
        "    if isinstance(other, Employee):\n",
        "      return int(self.pay) + int(other.pay)\n",
        "    else:\n",
        "      print(\"Improper argument: both arguments should be an instance of Employee class\")\n",
        "\n",
        "  def fullname(self):\n",
        "    return '{} {}'.format(self.first, self.last)\n",
        "\n",
        "  def apply_raise(self):\n",
        "    self.pay = int(self.pay)*self.raise_amount\n",
        "\n",
        "  @classmethod\n",
        "  def set_raise_amount(cls, amount):\n",
        "    \"\"\" set_raise_amount is a class method which changes the value of class variable raise_amount\"\"\"\n",
        "    cls.raise_amount = amount\n",
        "\n",
        "  @classmethod\n",
        "  def from_string(cls, emp_str):\n",
        "    \"\"\"Using class method 'from_string' as an alternative constructor.\n",
        "    Here, 'from_string' accepts a string in the format 'first-last-int_pay'\"\"\"\n",
        "    first, last, pay = emp_str.split('-')\n",
        "    return Employee(first, last, pay)\n",
        "\n",
        "  @staticmethod\n",
        "  def is_workday(day):\n",
        "    \"\"\" 'is_workday' is a staticmethod which returns a boolean of the day is a workday.\n",
        "    This is a static method as it does not reference or access the instance or the \n",
        "    class anywhere within the function.method\"\"\"\n",
        "    if day.weekday() == 5 or  day.weekday() == 6:\n",
        "      return False\n",
        "    return True\n",
        "\n",
        "\n",
        "\n"
      ],
      "metadata": {
        "id": "JjQ5VtzwXKp-"
      },
      "execution_count": null,
      "outputs": []
    },
    {
      "cell_type": "code",
      "source": [
        "# Add Instances of Employee class\n",
        "emp_1 = Employee('Corey', 'Schafer', 50000)\n",
        "emp_2  = Employee('Test', 'User', 60000)\n",
        "\n",
        "# Respective __repr__()/repr()\n",
        "\n",
        "print(repr(emp_1))\n",
        "print(emp_2.__repr__())\n",
        "\n",
        "# Respective __str__/str()\n",
        "\n",
        "print(emp_1)\n",
        "print(emp_2)"
      ],
      "metadata": {
        "colab": {
          "base_uri": "https://localhost:8080/"
        },
        "id": "xLcTulBjgd9N",
        "outputId": "3e52558d-003a-464f-f13b-eabf828beacf"
      },
      "execution_count": null,
      "outputs": [
        {
          "output_type": "stream",
          "name": "stdout",
          "text": [
            "Employee('Corey', 'Schafer', 50000)\n",
            "Employee('Test', 'User', 60000)\n",
            "Corey Schafer - corey.schafer@company.com\n",
            "Test User - test.user@company.com\n"
          ]
        }
      ]
    },
    {
      "cell_type": "code",
      "source": [
        "# Special method dunder add/__add__() is equivalent to operation '+'/addition\n",
        "# We can customize the behaviour of '+' for our own custom classes using __add__()\n",
        "\n",
        "# For integer datatype\n",
        "print(1 + 2)\n",
        "print(int.__add__(1, 2))\n",
        "\n",
        "# For string datatype: '+'/__add__() implies concatanation of characters/strings\n",
        "print('a' + 'b')\n",
        "print(str.__add__('a', 'b'))\n",
        "\n",
        "# __add__() for our Employee class\n",
        "print(emp_1 + emp_2)"
      ],
      "metadata": {
        "colab": {
          "base_uri": "https://localhost:8080/"
        },
        "id": "au6IwSECgi3R",
        "outputId": "87beca4a-54e6-4872-fc6a-74f54f9cfa32"
      },
      "execution_count": null,
      "outputs": [
        {
          "output_type": "stream",
          "name": "stdout",
          "text": [
            "3\n",
            "3\n",
            "ab\n",
            "ab\n",
            "110000\n"
          ]
        }
      ]
    },
    {
      "cell_type": "code",
      "source": [
        "# Property Decorators:- Getters, Setters, and Deleters\n",
        "# Define a method, but access it like an attribute\n",
        "\n",
        "class Employee:\n",
        "  def __init__(self, first, last):\n",
        "    self.first = first\n",
        "    self.last = last\n",
        "    self.email = first.lower() + '.' + last.lower() + '@company.com'\n",
        "\n",
        "  def fullname(self):\n",
        "    return '{} {}'.format(self.first, self.last)"
      ],
      "metadata": {
        "id": "y9KyBE1luOHA"
      },
      "execution_count": null,
      "outputs": []
    },
    {
      "cell_type": "code",
      "source": [
        "# Instance:-\n",
        "emp_1 = Employee('John', 'Smith')\n",
        "\n",
        "print(emp_1.first)\n",
        "print(emp_1.email)\n",
        "print(emp_1.fullname())"
      ],
      "metadata": {
        "colab": {
          "base_uri": "https://localhost:8080/"
        },
        "id": "IMs9HhFehuSj",
        "outputId": "5d77bce1-14b4-4f18-d26d-7ac56a41cdd3"
      },
      "execution_count": null,
      "outputs": [
        {
          "output_type": "stream",
          "name": "stdout",
          "text": [
            "John\n",
            "john.smith@company.com\n",
            "John Smith\n"
          ]
        }
      ]
    },
    {
      "cell_type": "code",
      "source": [
        "# The 'first' name is changed, but the email is the same\n",
        "emp_1.first = 'Jim'\n",
        "\n",
        "print(emp_1.first)\n",
        "print(emp_1.email)\n",
        "print(emp_1.fullname())"
      ],
      "metadata": {
        "colab": {
          "base_uri": "https://localhost:8080/"
        },
        "id": "ENt1oaFtiBVU",
        "outputId": "7750ffa2-15a2-42e8-c1e0-32140455f48e"
      },
      "execution_count": null,
      "outputs": [
        {
          "output_type": "stream",
          "name": "stdout",
          "text": [
            "Jim\n",
            "john.smith@company.com\n",
            "Jim Smith\n"
          ]
        }
      ]
    },
    {
      "cell_type": "code",
      "source": [
        "# Why use Property Decorators?\n",
        "# Define a method, but access it like an attribute\n",
        "class Employee:\n",
        "  def __init__(self, first, last):\n",
        "    self.first = first\n",
        "    self.last = last\n",
        "\n",
        "  @property\n",
        "  def email(self):\n",
        "    return '{}{}@company.com'.format(self.first.lower(), self.last.lower())\n",
        "\n",
        "  @property\n",
        "  def fullname(self):\n",
        "    return '{} {}'.format(self.first, self.last)"
      ],
      "metadata": {
        "id": "tuWgiXd2kYU4"
      },
      "execution_count": null,
      "outputs": []
    },
    {
      "cell_type": "code",
      "source": [
        "emp_1 = Employee('John', 'Smith')\n",
        "emp_1.first = 'Jim'\n",
        "\n",
        "print(emp_1.first)\n",
        "print(emp_1.email) # Method accessed like an attribute\n",
        "print(emp_1.fullname) # Method accessed like an attribute"
      ],
      "metadata": {
        "colab": {
          "base_uri": "https://localhost:8080/"
        },
        "id": "-FNnw6XRlCIz",
        "outputId": "bec69859-d674-456a-a744-7091f83e7a3f"
      },
      "execution_count": null,
      "outputs": [
        {
          "output_type": "stream",
          "name": "stdout",
          "text": [
            "Jim\n",
            "jimsmith@company.com\n",
            "Jim Smith\n"
          ]
        }
      ]
    },
    {
      "cell_type": "code",
      "source": [
        "# Using setter: Assign a new fullname like an attribute\n",
        "# Example: emp_1.fullname = 'Pritam Sarkar'\n",
        "# Using deleter: Delete the corresponding attributes of a method\n",
        "\n",
        "class Employee:\n",
        "  def __init__(self, first, last):\n",
        "    self.first = first\n",
        "    self.last = last\n",
        "\n",
        "  @property\n",
        "  def email(self):\n",
        "    return '{}{}@company.com'.format(self.first.lower(), self.last.lower())\n",
        "\n",
        "  @property\n",
        "  def fullname(self):\n",
        "    return '{} {}'.format(self.first, self.last)\n",
        "\n",
        "  @fullname.setter\n",
        "  def fullname(self, name):\n",
        "    self.first, self.last = name.split(' ')\n",
        "\n",
        "  @fullname.deleter\n",
        "  def fullname(self):\n",
        "    print('Delete Name!')\n",
        "    self.first = None\n",
        "    self.last = None\n"
      ],
      "metadata": {
        "id": "yf7RgRoplURB"
      },
      "execution_count": null,
      "outputs": []
    },
    {
      "cell_type": "code",
      "source": [
        "# Demo: Using setter to set full name\n",
        "# Demo: Using deleter to delete it!\n",
        "\n",
        "emp_1 = Employee('John', 'Smith')\n",
        "\n",
        "print(emp_1.first)\n",
        "print(emp_1.email)\n",
        "print(emp_1.fullname)\n",
        "\n",
        "emp_1.fullname = 'Pritam Sarkar'\n",
        "\n",
        "print(emp_1.first)\n",
        "print(emp_1.email)\n",
        "print(emp_1.fullname)\n",
        "\n",
        "del emp_1.fullname # emp_1.first = None and emp_1,last = None\n",
        "print(emp_1.first)\n",
        "print(emp_1.email) # AttributeError: 'NoneType' object has no attribute 'lower'\n",
        "print(emp_1.fullname)"
      ],
      "metadata": {
        "colab": {
          "base_uri": "https://localhost:8080/",
          "height": 478
        },
        "id": "Y-rrSGj_pWzX",
        "outputId": "aab19b89-9b96-42b3-b7eb-1e245c10307f"
      },
      "execution_count": null,
      "outputs": [
        {
          "output_type": "stream",
          "name": "stdout",
          "text": [
            "John\n",
            "johnsmith@company.com\n",
            "John Smith\n",
            "Pritam\n",
            "pritamsarkar@company.com\n",
            "Pritam Sarkar\n",
            "Delete Name!\n",
            "None\n"
          ]
        },
        {
          "output_type": "error",
          "ename": "AttributeError",
          "evalue": "ignored",
          "traceback": [
            "\u001b[0;31m---------------------------------------------------------------------------\u001b[0m",
            "\u001b[0;31mAttributeError\u001b[0m                            Traceback (most recent call last)",
            "\u001b[0;32m<ipython-input-49-e6937d24a051>\u001b[0m in \u001b[0;36m<module>\u001b[0;34m()\u001b[0m\n\u001b[1;32m     16\u001b[0m \u001b[0;32mdel\u001b[0m \u001b[0memp_1\u001b[0m\u001b[0;34m.\u001b[0m\u001b[0mfullname\u001b[0m\u001b[0;34m\u001b[0m\u001b[0;34m\u001b[0m\u001b[0m\n\u001b[1;32m     17\u001b[0m \u001b[0mprint\u001b[0m\u001b[0;34m(\u001b[0m\u001b[0memp_1\u001b[0m\u001b[0;34m.\u001b[0m\u001b[0mfirst\u001b[0m\u001b[0;34m)\u001b[0m\u001b[0;34m\u001b[0m\u001b[0;34m\u001b[0m\u001b[0m\n\u001b[0;32m---> 18\u001b[0;31m \u001b[0mprint\u001b[0m\u001b[0;34m(\u001b[0m\u001b[0memp_1\u001b[0m\u001b[0;34m.\u001b[0m\u001b[0memail\u001b[0m\u001b[0;34m)\u001b[0m\u001b[0;34m\u001b[0m\u001b[0;34m\u001b[0m\u001b[0m\n\u001b[0m\u001b[1;32m     19\u001b[0m \u001b[0mprint\u001b[0m\u001b[0;34m(\u001b[0m\u001b[0memp_1\u001b[0m\u001b[0;34m.\u001b[0m\u001b[0mfullname\u001b[0m\u001b[0;34m)\u001b[0m\u001b[0;34m\u001b[0m\u001b[0;34m\u001b[0m\u001b[0m\n",
            "\u001b[0;32m<ipython-input-48-27f6a5d2e985>\u001b[0m in \u001b[0;36memail\u001b[0;34m(self)\u001b[0m\n\u001b[1;32m     10\u001b[0m   \u001b[0;34m@\u001b[0m\u001b[0mproperty\u001b[0m\u001b[0;34m\u001b[0m\u001b[0;34m\u001b[0m\u001b[0m\n\u001b[1;32m     11\u001b[0m   \u001b[0;32mdef\u001b[0m \u001b[0memail\u001b[0m\u001b[0;34m(\u001b[0m\u001b[0mself\u001b[0m\u001b[0;34m)\u001b[0m\u001b[0;34m:\u001b[0m\u001b[0;34m\u001b[0m\u001b[0;34m\u001b[0m\u001b[0m\n\u001b[0;32m---> 12\u001b[0;31m     \u001b[0;32mreturn\u001b[0m \u001b[0;34m'{}{}@company.com'\u001b[0m\u001b[0;34m.\u001b[0m\u001b[0mformat\u001b[0m\u001b[0;34m(\u001b[0m\u001b[0mself\u001b[0m\u001b[0;34m.\u001b[0m\u001b[0mfirst\u001b[0m\u001b[0;34m.\u001b[0m\u001b[0mlower\u001b[0m\u001b[0;34m(\u001b[0m\u001b[0;34m)\u001b[0m\u001b[0;34m,\u001b[0m \u001b[0mself\u001b[0m\u001b[0;34m.\u001b[0m\u001b[0mlast\u001b[0m\u001b[0;34m.\u001b[0m\u001b[0mlower\u001b[0m\u001b[0;34m(\u001b[0m\u001b[0;34m)\u001b[0m\u001b[0;34m)\u001b[0m\u001b[0;34m\u001b[0m\u001b[0;34m\u001b[0m\u001b[0m\n\u001b[0m\u001b[1;32m     13\u001b[0m \u001b[0;34m\u001b[0m\u001b[0m\n\u001b[1;32m     14\u001b[0m   \u001b[0;34m@\u001b[0m\u001b[0mproperty\u001b[0m\u001b[0;34m\u001b[0m\u001b[0;34m\u001b[0m\u001b[0m\n",
            "\u001b[0;31mAttributeError\u001b[0m: 'NoneType' object has no attribute 'lower'"
          ]
        }
      ]
    }
  ]
}