{
  "nbformat": 4,
  "nbformat_minor": 0,
  "metadata": {
    "colab": {
      "name": "Generators, Iterators and Sorting.ipynb",
      "provenance": []
    },
    "kernelspec": {
      "name": "python3",
      "display_name": "Python 3"
    },
    "language_info": {
      "name": "python"
    }
  },
  "cells": [
    {
      "cell_type": "code",
      "source": [
        "import itertools"
      ],
      "metadata": {
        "id": "UeUBWFcYOh3K"
      },
      "execution_count": null,
      "outputs": []
    },
    {
      "cell_type": "code",
      "execution_count": null,
      "metadata": {
        "colab": {
          "base_uri": "https://localhost:8080/"
        },
        "id": "zyzdx-FAMf1t",
        "outputId": "6750a8bf-e662-4caa-b39a-313c503d7aad"
      },
      "outputs": [
        {
          "output_type": "stream",
          "name": "stdout",
          "text": [
            "[1, 4, 9, 16, 25]\n"
          ]
        }
      ],
      "source": [
        "#Normal List way\n",
        "def sq_num(nums):\n",
        "  result = []\n",
        "  for i in nums:\n",
        "    result.append(i*i)\n",
        "\n",
        "  return result\n",
        "\n",
        "my_nums = sq_num([1, 2, 3, 4, 5])\n",
        "print(my_nums)"
      ]
    },
    {
      "cell_type": "code",
      "source": [
        "#Generator way\n",
        "\n",
        "def sq_num_gen(nums):\n",
        "  for i in nums:\n",
        "    yield (i*i)\n",
        "\n",
        "my_nums = sq_num_gen([1, 2, 3, 4, 5])\n",
        "print(my_nums)\n",
        "copy_1, copy_2 = itertools.tee(my_nums)\n",
        "print(list(copy_1))\n",
        "print(next(copy_2))\n",
        "print(next(copy_2))\n",
        "print(next(copy_2))\n",
        "print(next(copy_2))\n",
        "print(next(copy_2))\n",
        "print(next(copy_2))#Expect StopIteration Here\n"
      ],
      "metadata": {
        "colab": {
          "base_uri": "https://localhost:8080/",
          "height": 322
        },
        "id": "oxQmuEbcNX2I",
        "outputId": "93be3c02-878f-4740-da68-55df79644fa3"
      },
      "execution_count": null,
      "outputs": [
        {
          "output_type": "stream",
          "name": "stdout",
          "text": [
            "<generator object sq_num_gen at 0x7f6166595bd0>\n",
            "[1, 4, 9, 16, 25]\n",
            "1\n",
            "4\n",
            "9\n",
            "16\n",
            "25\n"
          ]
        },
        {
          "output_type": "error",
          "ename": "StopIteration",
          "evalue": "ignored",
          "traceback": [
            "\u001b[0;31m---------------------------------------------------------------------------\u001b[0m",
            "\u001b[0;31mStopIteration\u001b[0m                             Traceback (most recent call last)",
            "\u001b[0;32m<ipython-input-9-c0d256ea20cd>\u001b[0m in \u001b[0;36m<module>\u001b[0;34m()\u001b[0m\n\u001b[1;32m     14\u001b[0m \u001b[0mprint\u001b[0m\u001b[0;34m(\u001b[0m\u001b[0mnext\u001b[0m\u001b[0;34m(\u001b[0m\u001b[0mcopy_2\u001b[0m\u001b[0;34m)\u001b[0m\u001b[0;34m)\u001b[0m\u001b[0;34m\u001b[0m\u001b[0;34m\u001b[0m\u001b[0m\n\u001b[1;32m     15\u001b[0m \u001b[0mprint\u001b[0m\u001b[0;34m(\u001b[0m\u001b[0mnext\u001b[0m\u001b[0;34m(\u001b[0m\u001b[0mcopy_2\u001b[0m\u001b[0;34m)\u001b[0m\u001b[0;34m)\u001b[0m\u001b[0;34m\u001b[0m\u001b[0;34m\u001b[0m\u001b[0m\n\u001b[0;32m---> 16\u001b[0;31m \u001b[0mprint\u001b[0m\u001b[0;34m(\u001b[0m\u001b[0mnext\u001b[0m\u001b[0;34m(\u001b[0m\u001b[0mcopy_2\u001b[0m\u001b[0;34m)\u001b[0m\u001b[0;34m)\u001b[0m\u001b[0;31m#Expect StopIteration Here\u001b[0m\u001b[0;34m\u001b[0m\u001b[0;34m\u001b[0m\u001b[0m\n\u001b[0m",
            "\u001b[0;31mStopIteration\u001b[0m: "
          ]
        }
      ]
    },
    {
      "cell_type": "code",
      "source": [
        "#Using List Comprehension\n",
        "my_nums = [x*x for x in [1, 2, 3, 4, 5]]\n",
        "print(my_nums)"
      ],
      "metadata": {
        "colab": {
          "base_uri": "https://localhost:8080/"
        },
        "id": "a-2c_CxwNwya",
        "outputId": "d6c11517-bdd6-4640-a2b4-6f6081a97ad4"
      },
      "execution_count": null,
      "outputs": [
        {
          "output_type": "stream",
          "name": "stdout",
          "text": [
            "[1, 4, 9, 16, 25]\n"
          ]
        }
      ]
    },
    {
      "cell_type": "code",
      "source": [
        "#Using List Comprehension, but for generators\n",
        "my_nums = (x*x for x in [1, 2, 3, 4, 5])\n",
        "\n",
        "print(my_nums)\n",
        "print(list(my_nums))"
      ],
      "metadata": {
        "colab": {
          "base_uri": "https://localhost:8080/"
        },
        "id": "xSfNZZ5PPvEF",
        "outputId": "899b217b-1d36-4fa9-9ef4-0fe33cef3d63"
      },
      "execution_count": null,
      "outputs": [
        {
          "output_type": "stream",
          "name": "stdout",
          "text": [
            "<generator object <genexpr> at 0x7f616662f450>\n",
            "[1, 4, 9, 16, 25]\n"
          ]
        }
      ]
    },
    {
      "cell_type": "code",
      "source": [
        "#Iterators\n",
        "#Difference between Iterable and iterator???\n",
        "#Iterable: Something that can be lopped over!!\n",
        "#Example: Loops, Strings, Dictionary, Generator\n",
        "nums = [1, 2, 3, 4, 5]\n",
        "for num in nums:\n",
        "  print(num)\n"
      ],
      "metadata": {
        "colab": {
          "base_uri": "https://localhost:8080/"
        },
        "id": "Vq7xu4UJSsv0",
        "outputId": "586fc46e-a311-4a1a-e7ed-10da40dac998"
      },
      "execution_count": null,
      "outputs": [
        {
          "output_type": "stream",
          "name": "stdout",
          "text": [
            "1\n",
            "2\n",
            "3\n",
            "4\n",
            "5\n"
          ]
        }
      ]
    },
    {
      "cell_type": "code",
      "source": [
        "# A iterable is a __iter__ method/Dunder Iter method\n",
        "#However, all iterables are not iterators\n",
        "print(dir(nums))\n",
        "print('__iter__' in dir(nums))"
      ],
      "metadata": {
        "colab": {
          "base_uri": "https://localhost:8080/"
        },
        "id": "x3sL6rHSUdHy",
        "outputId": "87bdbb50-6137-4f02-8aaf-a6b015ca89c6"
      },
      "execution_count": null,
      "outputs": [
        {
          "output_type": "stream",
          "name": "stdout",
          "text": [
            "['__add__', '__class__', '__contains__', '__delattr__', '__delitem__', '__dir__', '__doc__', '__eq__', '__format__', '__ge__', '__getattribute__', '__getitem__', '__gt__', '__hash__', '__iadd__', '__imul__', '__init__', '__init_subclass__', '__iter__', '__le__', '__len__', '__lt__', '__mul__', '__ne__', '__new__', '__reduce__', '__reduce_ex__', '__repr__', '__reversed__', '__rmul__', '__setattr__', '__setitem__', '__sizeof__', '__str__', '__subclasshook__', 'append', 'clear', 'copy', 'count', 'extend', 'index', 'insert', 'pop', 'remove', 'reverse', 'sort']\n",
            "True\n"
          ]
        }
      ]
    },
    {
      "cell_type": "code",
      "source": [
        "#What is an iterator?\n",
        "\"\"\"Iterator is an object with a state so that it remembers\n",
        "where it is during iteration.\"\"\"\n",
        "# An Iterator gets the next state using dunder next method(__next__)\n",
        "# A list is an iterable, but not a iterator\n",
        "print('__next__' in dir(nums))\n",
        "\n",
        "print(next(nums))#While throw an error"
      ],
      "metadata": {
        "colab": {
          "base_uri": "https://localhost:8080/",
          "height": 217
        },
        "id": "GrKlO3T2U_E7",
        "outputId": "b0b851ca-dc43-4f37-980c-89c00cdd0b41"
      },
      "execution_count": null,
      "outputs": [
        {
          "output_type": "stream",
          "name": "stdout",
          "text": [
            "False\n"
          ]
        },
        {
          "output_type": "error",
          "ename": "TypeError",
          "evalue": "ignored",
          "traceback": [
            "\u001b[0;31m---------------------------------------------------------------------------\u001b[0m",
            "\u001b[0;31mTypeError\u001b[0m                                 Traceback (most recent call last)",
            "\u001b[0;32m<ipython-input-16-c2bbaab870e1>\u001b[0m in \u001b[0;36m<module>\u001b[0;34m()\u001b[0m\n\u001b[1;32m      6\u001b[0m \u001b[0mprint\u001b[0m\u001b[0;34m(\u001b[0m\u001b[0;34m'__next__'\u001b[0m \u001b[0;32min\u001b[0m \u001b[0mdir\u001b[0m\u001b[0;34m(\u001b[0m\u001b[0mnums\u001b[0m\u001b[0;34m)\u001b[0m\u001b[0;34m)\u001b[0m\u001b[0;34m\u001b[0m\u001b[0;34m\u001b[0m\u001b[0m\n\u001b[1;32m      7\u001b[0m \u001b[0;34m\u001b[0m\u001b[0m\n\u001b[0;32m----> 8\u001b[0;31m \u001b[0mprint\u001b[0m\u001b[0;34m(\u001b[0m\u001b[0mnext\u001b[0m\u001b[0;34m(\u001b[0m\u001b[0mnums\u001b[0m\u001b[0;34m)\u001b[0m\u001b[0;34m)\u001b[0m\u001b[0;31m#While throw an error\u001b[0m\u001b[0;34m\u001b[0m\u001b[0;34m\u001b[0m\u001b[0m\n\u001b[0m",
            "\u001b[0;31mTypeError\u001b[0m: 'list' object is not an iterator"
          ]
        }
      ]
    },
    {
      "cell_type": "code",
      "source": [
        "\"\"\"Dunder Iter on a list returns an iterator with a dunder next in the \n",
        "iterator's directory\"\"\"\n",
        "\n",
        "i_nums = nums.__iter__()\n",
        "print(i_nums)\n",
        "print(dir(i_nums))\n",
        "print('__iter__' in dir(i_nums))\n",
        "print('__next__' in dir(i_nums))"
      ],
      "metadata": {
        "colab": {
          "base_uri": "https://localhost:8080/"
        },
        "id": "ELSE1UeqY3me",
        "outputId": "90a65971-0768-4443-aefc-9366ae89ea06"
      },
      "execution_count": null,
      "outputs": [
        {
          "output_type": "stream",
          "name": "stdout",
          "text": [
            "<list_iterator object at 0x7f6166620090>\n",
            "['__class__', '__delattr__', '__dir__', '__doc__', '__eq__', '__format__', '__ge__', '__getattribute__', '__gt__', '__hash__', '__init__', '__init_subclass__', '__iter__', '__le__', '__length_hint__', '__lt__', '__ne__', '__new__', '__next__', '__reduce__', '__reduce_ex__', '__repr__', '__setattr__', '__setstate__', '__sizeof__', '__str__', '__subclasshook__']\n",
            "True\n",
            "True\n"
          ]
        }
      ]
    },
    {
      "cell_type": "code",
      "source": [
        "print(next(i_nums))\n",
        "print(next(i_nums))\n",
        "print(next(i_nums))\n",
        "print(next(i_nums))\n",
        "print(next(i_nums))\n",
        "print(next(i_nums))# This line will give StopIteration as the List is exhausted\n"
      ],
      "metadata": {
        "colab": {
          "base_uri": "https://localhost:8080/",
          "height": 234
        },
        "id": "Yx3y2rSWeiVp",
        "outputId": "412d2677-d315-4419-8fcf-74bd63b42854"
      },
      "execution_count": null,
      "outputs": [
        {
          "output_type": "error",
          "ename": "StopIteration",
          "evalue": "ignored",
          "traceback": [
            "\u001b[0;31m---------------------------------------------------------------------------\u001b[0m",
            "\u001b[0;31mStopIteration\u001b[0m                             Traceback (most recent call last)",
            "\u001b[0;32m<ipython-input-21-183887dd1857>\u001b[0m in \u001b[0;36m<module>\u001b[0;34m()\u001b[0m\n\u001b[0;32m----> 1\u001b[0;31m \u001b[0mprint\u001b[0m\u001b[0;34m(\u001b[0m\u001b[0mnext\u001b[0m\u001b[0;34m(\u001b[0m\u001b[0mi_nums\u001b[0m\u001b[0;34m)\u001b[0m\u001b[0;34m)\u001b[0m\u001b[0;34m\u001b[0m\u001b[0;34m\u001b[0m\u001b[0m\n\u001b[0m\u001b[1;32m      2\u001b[0m \u001b[0mprint\u001b[0m\u001b[0;34m(\u001b[0m\u001b[0mnext\u001b[0m\u001b[0;34m(\u001b[0m\u001b[0mi_nums\u001b[0m\u001b[0;34m)\u001b[0m\u001b[0;34m)\u001b[0m\u001b[0;34m\u001b[0m\u001b[0;34m\u001b[0m\u001b[0m\n\u001b[1;32m      3\u001b[0m \u001b[0mprint\u001b[0m\u001b[0;34m(\u001b[0m\u001b[0mnext\u001b[0m\u001b[0;34m(\u001b[0m\u001b[0mi_nums\u001b[0m\u001b[0;34m)\u001b[0m\u001b[0;34m)\u001b[0m\u001b[0;34m\u001b[0m\u001b[0;34m\u001b[0m\u001b[0m\n\u001b[1;32m      4\u001b[0m \u001b[0mprint\u001b[0m\u001b[0;34m(\u001b[0m\u001b[0mnext\u001b[0m\u001b[0;34m(\u001b[0m\u001b[0mi_nums\u001b[0m\u001b[0;34m)\u001b[0m\u001b[0;34m)\u001b[0m\u001b[0;34m\u001b[0m\u001b[0;34m\u001b[0m\u001b[0m\n\u001b[1;32m      5\u001b[0m \u001b[0mprint\u001b[0m\u001b[0;34m(\u001b[0m\u001b[0mnext\u001b[0m\u001b[0;34m(\u001b[0m\u001b[0mi_nums\u001b[0m\u001b[0;34m)\u001b[0m\u001b[0;34m)\u001b[0m\u001b[0;34m\u001b[0m\u001b[0;34m\u001b[0m\u001b[0m\n",
            "\u001b[0;31mStopIteration\u001b[0m: "
          ]
        }
      ]
    },
    {
      "cell_type": "code",
      "source": [
        "#Using an iterator to loop through objects of a list(An Iterable)\n",
        "#Next can only move an iterator forward\n",
        "nums  = [1, 2, 3, 4, 5, 6, 7]\n",
        "\n",
        "i_nums = iter(nums)\n",
        "\n",
        "while True:\n",
        "  try:\n",
        "    item = next(i_nums)\n",
        "    print(item)\n",
        "  except StopIteration:\n",
        "    break"
      ],
      "metadata": {
        "colab": {
          "base_uri": "https://localhost:8080/"
        },
        "id": "B6aitFBvexGE",
        "outputId": "5fdd805b-184e-4cd5-ca19-2d7874e173e5"
      },
      "execution_count": null,
      "outputs": [
        {
          "output_type": "stream",
          "name": "stdout",
          "text": [
            "1\n",
            "2\n",
            "3\n",
            "4\n",
            "5\n",
            "6\n",
            "7\n"
          ]
        }
      ]
    },
    {
      "cell_type": "code",
      "source": [
        "#We can add these methods to our own classes \n",
        "#And make them iterable as well\n",
        "#Here, class MyRange is both iterable and an iterator\n",
        "class MyRange:\n",
        "  def __init__(self, start, end):\n",
        "    self.value = start\n",
        "    self.end = end\n",
        "\n",
        "  def __iter__(self):\n",
        "    return self\n",
        "\n",
        "  def __next__(self):\n",
        "    if self.value >= self.end:\n",
        "      raise StopIteration\n",
        "    current = self.value\n",
        "    self.value += 1\n",
        "    return current  "
      ],
      "metadata": {
        "id": "TkOU4yUBiNpj"
      },
      "execution_count": null,
      "outputs": []
    },
    {
      "cell_type": "code",
      "source": [
        "nums = MyRange(1, 10)\n",
        "\n",
        "for num in nums:\n",
        "  print(num)\n"
      ],
      "metadata": {
        "colab": {
          "base_uri": "https://localhost:8080/"
        },
        "id": "H5UkOKHCjkU3",
        "outputId": "b8f5ddcf-4927-406c-e24e-b159f54f032c"
      },
      "execution_count": null,
      "outputs": [
        {
          "output_type": "stream",
          "name": "stdout",
          "text": [
            "1\n",
            "2\n",
            "3\n",
            "4\n",
            "5\n",
            "6\n",
            "7\n",
            "8\n",
            "9\n"
          ]
        }
      ]
    },
    {
      "cell_type": "code",
      "source": [
        "# We can use __next__ to move through the values of MyRange class\n",
        "#Until we raise StopIteration\n",
        "nums = MyRange(1, 10)\n",
        "print(nums.__next__())\n",
        "print(nums.__next__())\n",
        "print(nums.__next__())\n",
        "print(nums.__next__())\n",
        "print(nums.__next__())\n",
        "print(nums.__next__())\n",
        "print(nums.__next__())\n",
        "print(nums.__next__())\n",
        "print(nums.__next__())\n",
        "print(nums.__next__())# Expect StopIteration here"
      ],
      "metadata": {
        "colab": {
          "base_uri": "https://localhost:8080/",
          "height": 478
        },
        "id": "6AoUaCWflj3x",
        "outputId": "5a6e4a37-c427-4d56-ca13-3f833c3dfaa4"
      },
      "execution_count": null,
      "outputs": [
        {
          "output_type": "stream",
          "name": "stdout",
          "text": [
            "1\n",
            "2\n",
            "3\n",
            "4\n",
            "5\n",
            "6\n",
            "7\n",
            "8\n",
            "9\n"
          ]
        },
        {
          "output_type": "error",
          "ename": "StopIteration",
          "evalue": "ignored",
          "traceback": [
            "\u001b[0;31m---------------------------------------------------------------------------\u001b[0m",
            "\u001b[0;31mStopIteration\u001b[0m                             Traceback (most recent call last)",
            "\u001b[0;32m<ipython-input-30-963f3f04dd67>\u001b[0m in \u001b[0;36m<module>\u001b[0;34m()\u001b[0m\n\u001b[1;32m     11\u001b[0m \u001b[0mprint\u001b[0m\u001b[0;34m(\u001b[0m\u001b[0mnums\u001b[0m\u001b[0;34m.\u001b[0m\u001b[0m__next__\u001b[0m\u001b[0;34m(\u001b[0m\u001b[0;34m)\u001b[0m\u001b[0;34m)\u001b[0m\u001b[0;34m\u001b[0m\u001b[0;34m\u001b[0m\u001b[0m\n\u001b[1;32m     12\u001b[0m \u001b[0mprint\u001b[0m\u001b[0;34m(\u001b[0m\u001b[0mnums\u001b[0m\u001b[0;34m.\u001b[0m\u001b[0m__next__\u001b[0m\u001b[0;34m(\u001b[0m\u001b[0;34m)\u001b[0m\u001b[0;34m)\u001b[0m\u001b[0;34m\u001b[0m\u001b[0;34m\u001b[0m\u001b[0m\n\u001b[0;32m---> 13\u001b[0;31m \u001b[0mprint\u001b[0m\u001b[0;34m(\u001b[0m\u001b[0mnums\u001b[0m\u001b[0;34m.\u001b[0m\u001b[0m__next__\u001b[0m\u001b[0;34m(\u001b[0m\u001b[0;34m)\u001b[0m\u001b[0;34m)\u001b[0m\u001b[0;34m\u001b[0m\u001b[0;34m\u001b[0m\u001b[0m\n\u001b[0m",
            "\u001b[0;32m<ipython-input-28-b70b04082cc2>\u001b[0m in \u001b[0;36m__next__\u001b[0;34m(self)\u001b[0m\n\u001b[1;32m     12\u001b[0m   \u001b[0;32mdef\u001b[0m \u001b[0m__next__\u001b[0m\u001b[0;34m(\u001b[0m\u001b[0mself\u001b[0m\u001b[0;34m)\u001b[0m\u001b[0;34m:\u001b[0m\u001b[0;34m\u001b[0m\u001b[0;34m\u001b[0m\u001b[0m\n\u001b[1;32m     13\u001b[0m     \u001b[0;32mif\u001b[0m \u001b[0mself\u001b[0m\u001b[0;34m.\u001b[0m\u001b[0mvalue\u001b[0m \u001b[0;34m>=\u001b[0m \u001b[0mself\u001b[0m\u001b[0;34m.\u001b[0m\u001b[0mend\u001b[0m\u001b[0;34m:\u001b[0m\u001b[0;34m\u001b[0m\u001b[0;34m\u001b[0m\u001b[0m\n\u001b[0;32m---> 14\u001b[0;31m       \u001b[0;32mraise\u001b[0m \u001b[0mStopIteration\u001b[0m\u001b[0;34m\u001b[0m\u001b[0;34m\u001b[0m\u001b[0m\n\u001b[0m\u001b[1;32m     15\u001b[0m     \u001b[0mcurrent\u001b[0m \u001b[0;34m=\u001b[0m \u001b[0mself\u001b[0m\u001b[0;34m.\u001b[0m\u001b[0mvalue\u001b[0m\u001b[0;34m\u001b[0m\u001b[0;34m\u001b[0m\u001b[0m\n\u001b[1;32m     16\u001b[0m     \u001b[0mself\u001b[0m\u001b[0;34m.\u001b[0m\u001b[0mvalue\u001b[0m \u001b[0;34m+=\u001b[0m \u001b[0;36m1\u001b[0m\u001b[0;34m\u001b[0m\u001b[0;34m\u001b[0m\u001b[0m\n",
            "\u001b[0;31mStopIteration\u001b[0m: "
          ]
        }
      ]
    },
    {
      "cell_type": "code",
      "source": [
        "#Generator version of the above MyRange class\n",
        "def my_range(start, end):\n",
        "  current = start\n",
        "  while current<end:\n",
        "    yield current\n",
        "    current += 1\n",
        "\n",
        "nums = my_range(1, 10)\n"
      ],
      "metadata": {
        "id": "vzwmvX20nRRO"
      },
      "execution_count": null,
      "outputs": []
    },
    {
      "cell_type": "code",
      "source": [
        "#Using dunder next to move through the generator values\n",
        "\n",
        "print(next(nums))\n",
        "print(next(nums))\n",
        "print(next(nums))\n",
        "print(next(nums))\n",
        "print(next(nums))\n",
        "print(next(nums))\n",
        "print(next(nums))\n",
        "print(next(nums))\n",
        "print(next(nums))\n",
        "print(next(nums))#Expect StopIteration here"
      ],
      "metadata": {
        "colab": {
          "base_uri": "https://localhost:8080/",
          "height": 356
        },
        "id": "dOZSK5MEnwPw",
        "outputId": "c4c1d0bc-1e6b-41bd-8668-b919eecf89e0"
      },
      "execution_count": null,
      "outputs": [
        {
          "output_type": "stream",
          "name": "stdout",
          "text": [
            "1\n",
            "2\n",
            "3\n",
            "4\n",
            "5\n",
            "6\n",
            "7\n",
            "8\n",
            "9\n"
          ]
        },
        {
          "output_type": "error",
          "ename": "StopIteration",
          "evalue": "ignored",
          "traceback": [
            "\u001b[0;31m---------------------------------------------------------------------------\u001b[0m",
            "\u001b[0;31mStopIteration\u001b[0m                             Traceback (most recent call last)",
            "\u001b[0;32m<ipython-input-32-b686cb19a71a>\u001b[0m in \u001b[0;36m<module>\u001b[0;34m()\u001b[0m\n\u001b[1;32m     10\u001b[0m \u001b[0mprint\u001b[0m\u001b[0;34m(\u001b[0m\u001b[0mnext\u001b[0m\u001b[0;34m(\u001b[0m\u001b[0mnums\u001b[0m\u001b[0;34m)\u001b[0m\u001b[0;34m)\u001b[0m\u001b[0;34m\u001b[0m\u001b[0;34m\u001b[0m\u001b[0m\n\u001b[1;32m     11\u001b[0m \u001b[0mprint\u001b[0m\u001b[0;34m(\u001b[0m\u001b[0mnext\u001b[0m\u001b[0;34m(\u001b[0m\u001b[0mnums\u001b[0m\u001b[0;34m)\u001b[0m\u001b[0;34m)\u001b[0m\u001b[0;34m\u001b[0m\u001b[0;34m\u001b[0m\u001b[0m\n\u001b[0;32m---> 12\u001b[0;31m \u001b[0mprint\u001b[0m\u001b[0;34m(\u001b[0m\u001b[0mnext\u001b[0m\u001b[0;34m(\u001b[0m\u001b[0mnums\u001b[0m\u001b[0;34m)\u001b[0m\u001b[0;34m)\u001b[0m\u001b[0;31m#Expect StopIteration here\u001b[0m\u001b[0;34m\u001b[0m\u001b[0;34m\u001b[0m\u001b[0m\n\u001b[0m",
            "\u001b[0;31mStopIteration\u001b[0m: "
          ]
        }
      ]
    },
    {
      "cell_type": "code",
      "source": [
        "#Sorting list\n",
        "#Using sorted method returns a sorted list and does not affect the original list\n",
        "#And moreover, sorted function can work on any iterable.\n",
        "orig_li = [1, 4, 3, 2, 5]\n",
        "li_sorted = sorted(orig_li)\n",
        "li_sorted_rev = sorted(orig_li, reverse = True)\n",
        "\n",
        "print('Original List = {}'.format(orig_li))\n",
        "print('Sorted List = {}'.format(li_sorted))\n",
        "print('Reverse sorted List = {}'.format(li_sorted_rev))"
      ],
      "metadata": {
        "colab": {
          "base_uri": "https://localhost:8080/"
        },
        "id": "YYjxGbWsVuK6",
        "outputId": "4fb3d514-6cfd-4e0a-ab4e-25567475e870"
      },
      "execution_count": null,
      "outputs": [
        {
          "output_type": "stream",
          "name": "stdout",
          "text": [
            "Original List = [1, 4, 3, 2, 5]\n",
            "Sorted List = [1, 2, 3, 4, 5]\n",
            "Reverse sorted List = [5, 4, 3, 2, 1]\n"
          ]
        }
      ]
    },
    {
      "cell_type": "code",
      "source": [
        "#_list.sort() acts on a list to sort it, and returns none\n",
        "orig_li = [1, 4, 3, 2, 5]\n",
        "li_sorted = orig_li.sort()\n",
        "print('Original List = {}'.format(orig_li))\n",
        "print('Sorted List = {}'.format(li_sorted))"
      ],
      "metadata": {
        "colab": {
          "base_uri": "https://localhost:8080/"
        },
        "id": "aqzUmo1HYXka",
        "outputId": "5f06f390-d329-4704-d09b-adfb9e24ea96"
      },
      "execution_count": null,
      "outputs": [
        {
          "output_type": "stream",
          "name": "stdout",
          "text": [
            "Original List = [1, 2, 3, 4, 5]\n",
            "Sorted List = None\n"
          ]
        }
      ]
    },
    {
      "cell_type": "code",
      "source": [
        "# reverse = True works on _list.sort() method too!\n",
        "orig_li.sort(reverse = True)\n",
        "print('Reverse sorted List = {}'.format(orig_li))"
      ],
      "metadata": {
        "colab": {
          "base_uri": "https://localhost:8080/"
        },
        "id": "32zfUwAOZHxn",
        "outputId": "a6c0703b-23de-49be-8d26-d4cb8b129e9f"
      },
      "execution_count": null,
      "outputs": [
        {
          "output_type": "stream",
          "name": "stdout",
          "text": [
            "Reverse sorted List = [5, 4, 3, 2, 1]\n"
          ]
        }
      ]
    },
    {
      "cell_type": "code",
      "source": [
        "# As mentioned above, sorted function can work on any iterable\n",
        "# Example: using sorted() method to return a sorted list, dictionary.\n",
        "\n",
        "tup = (9, 1, 8, 2, 7, 3, 6, 4, 5)\n",
        "print('Input Tuple: {}'.format(tup))\n",
        "sort_tup = tuple(sorted(tup)) #sorted() returns a list; Converted to tuple format\n",
        "print('Output Tuple: {}'.format(sort_tup))\n",
        "\n",
        "di = {'Name': 'Corey', 'Job': 'Programming', 'Age' : 27, 'OS': 'Windows'}\n",
        "s_di = sorted(di)#Returns a list of sorted keys\n",
        "print('Input Dictionary: {}'.format(di))\n",
        "print('Output: {}'.format(s_di))"
      ],
      "metadata": {
        "colab": {
          "base_uri": "https://localhost:8080/"
        },
        "id": "vQa499fpZ068",
        "outputId": "d06dc211-1dca-45df-e7f2-b912b5e485b1"
      },
      "execution_count": null,
      "outputs": [
        {
          "output_type": "stream",
          "name": "stdout",
          "text": [
            "Input Tuple: (9, 1, 8, 2, 7, 3, 6, 4, 5)\n",
            "Output Tuple: (1, 2, 3, 4, 5, 6, 7, 8, 9)\n",
            "Input Dictionary: {'Name': 'Corey', 'Job': 'Programming', 'Age': 27, 'OS': 'Windows'}\n",
            "Output: ['Age', 'Job', 'Name', 'OS']\n"
          ]
        }
      ]
    },
    {
      "cell_type": "code",
      "source": [
        "li = [-6, -5, 1, 2, 3]\n",
        "s_li = sorted(li)\n",
        "print(s_li)"
      ],
      "metadata": {
        "colab": {
          "base_uri": "https://localhost:8080/"
        },
        "id": "b8jhum8UljJc",
        "outputId": "c736cc2a-9218-44bc-a294-128b0dcfdc40"
      },
      "execution_count": null,
      "outputs": [
        {
          "output_type": "stream",
          "name": "stdout",
          "text": [
            "[-6, -5, 1, 2, 3]\n"
          ]
        }
      ]
    },
    {
      "cell_type": "code",
      "source": [
        "# Sorted by absolute value\n",
        "abs_s_li = sorted(li, key = abs)\n",
        "print(abs_s_li)"
      ],
      "metadata": {
        "colab": {
          "base_uri": "https://localhost:8080/"
        },
        "id": "3ZQZJm9WlnMr",
        "outputId": "06862596-dfb6-48bd-8823-6becdd612f64"
      },
      "execution_count": null,
      "outputs": [
        {
          "output_type": "stream",
          "name": "stdout",
          "text": [
            "[1, 2, 3, -5, -6]\n"
          ]
        }
      ]
    },
    {
      "cell_type": "code",
      "source": [
        "#Sorting a list of class instances\n",
        "\n",
        "class Employee():\n",
        "  def __init__(self, name, age, salary):\n",
        "    self.name = name\n",
        "    self.age = age\n",
        "    self.salary = salary\n",
        "\n",
        "  def __repr__(self):\n",
        "    return '({} {} {})'.format(self.name, self.age, self.salary)\n",
        "\n",
        "e1 = Employee('Carl', 37, 70000)\n",
        "e2 = Employee('Sarah', 29, 80000)\n",
        "e3 = Employee('John', 43, 90000)\n",
        "\n",
        "employees = [e1, e2, e3]"
      ],
      "metadata": {
        "id": "hemoK1y00Y8E"
      },
      "execution_count": null,
      "outputs": []
    },
    {
      "cell_type": "code",
      "source": [
        "print(e1)\n",
        "print(e2)\n",
        "print(e3)"
      ],
      "metadata": {
        "colab": {
          "base_uri": "https://localhost:8080/"
        },
        "id": "wA56loN51lfz",
        "outputId": "50753382-e83b-42bf-9d73-4127da938895"
      },
      "execution_count": null,
      "outputs": [
        {
          "output_type": "stream",
          "name": "stdout",
          "text": [
            "(Carl 37 70000)\n",
            "(Sarah 29 80000)\n",
            "(John 43 90000)\n"
          ]
        }
      ]
    },
    {
      "cell_type": "code",
      "source": [
        "s_employees = sorted(employees) #Will give TypeError"
      ],
      "metadata": {
        "colab": {
          "base_uri": "https://localhost:8080/",
          "height": 165
        },
        "id": "oqnPRQT-2QUP",
        "outputId": "a39c08d8-eec2-4f16-f7f8-84757f8769b7"
      },
      "execution_count": null,
      "outputs": [
        {
          "output_type": "error",
          "ename": "TypeError",
          "evalue": "ignored",
          "traceback": [
            "\u001b[0;31m---------------------------------------------------------------------------\u001b[0m",
            "\u001b[0;31mTypeError\u001b[0m                                 Traceback (most recent call last)",
            "\u001b[0;32m<ipython-input-59-ccfe5abc0227>\u001b[0m in \u001b[0;36m<module>\u001b[0;34m()\u001b[0m\n\u001b[0;32m----> 1\u001b[0;31m \u001b[0ms_employees\u001b[0m \u001b[0;34m=\u001b[0m \u001b[0msorted\u001b[0m\u001b[0;34m(\u001b[0m\u001b[0memployees\u001b[0m\u001b[0;34m)\u001b[0m \u001b[0;31m#Will give TypeError\u001b[0m\u001b[0;34m\u001b[0m\u001b[0;34m\u001b[0m\u001b[0m\n\u001b[0m",
            "\u001b[0;31mTypeError\u001b[0m: '<' not supported between instances of 'Employee' and 'Employee'"
          ]
        }
      ]
    },
    {
      "cell_type": "code",
      "source": [
        "#Custom fuction for key to sort instances of Employee in a list\n",
        "def name_sort(emp):\n",
        "  return emp.name\n",
        "\n",
        "def age_sort(emp):\n",
        "  return emp.age\n",
        "\n",
        "def sal_sort(emp):\n",
        "  return emp.salary\n",
        "#Sort the list based on custom key function\n",
        "s_employees = sorted(employees, key = name_sort)\n",
        "print(s_employees)\n",
        "\n",
        "s_employees = sorted(employees, key = age_sort)\n",
        "print(s_employees)\n",
        "\n",
        "s_employees = sorted(employees, key = sal_sort, reverse = True)\n",
        "print(s_employees)"
      ],
      "metadata": {
        "colab": {
          "base_uri": "https://localhost:8080/"
        },
        "id": "zn1Xa6032gw0",
        "outputId": "cc55ab46-f7a0-409c-91f3-0100268bd5d0"
      },
      "execution_count": null,
      "outputs": [
        {
          "output_type": "stream",
          "name": "stdout",
          "text": [
            "[(Carl 37 70000), (John 43 90000), (Sarah 29 80000)]\n",
            "[(Sarah 29 80000), (Carl 37 70000), (John 43 90000)]\n",
            "[(John 43 90000), (Sarah 29 80000), (Carl 37 70000)]\n"
          ]
        }
      ]
    },
    {
      "cell_type": "code",
      "source": [
        "#Such short custom key functions can be turned into Lambda functions\n",
        "#sort by name, ascending order\n",
        "s_employees = sorted(employees, key = lambda e:e.name)\n",
        "print(s_employees)"
      ],
      "metadata": {
        "colab": {
          "base_uri": "https://localhost:8080/"
        },
        "id": "mAtTUF8F355b",
        "outputId": "b8d0a43f-d628-4220-c8fb-1a276c1552e7"
      },
      "execution_count": null,
      "outputs": [
        {
          "output_type": "stream",
          "name": "stdout",
          "text": [
            "[(Carl 37 70000), (John 43 90000), (Sarah 29 80000)]\n"
          ]
        }
      ]
    },
    {
      "cell_type": "code",
      "source": [
        "#Or 'attrgetter' can be used\n",
        "from operator import attrgetter\n",
        "\n",
        "s_employees = sorted(employees, key = attrgetter('age'))\n",
        "print(s_employees)"
      ],
      "metadata": {
        "colab": {
          "base_uri": "https://localhost:8080/"
        },
        "id": "p3r7dNle4sGU",
        "outputId": "4422e5d1-aaf0-426b-fc02-e227f8a06bce"
      },
      "execution_count": null,
      "outputs": [
        {
          "output_type": "stream",
          "name": "stdout",
          "text": [
            "[(Sarah 29 80000), (Carl 37 70000), (John 43 90000)]\n"
          ]
        }
      ]
    }
  ]
}