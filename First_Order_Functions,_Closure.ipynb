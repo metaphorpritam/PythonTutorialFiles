{
  "nbformat": 4,
  "nbformat_minor": 0,
  "metadata": {
    "colab": {
      "name": "First Order Functions, Closure.ipynb",
      "provenance": [],
      "collapsed_sections": [],
      "authorship_tag": "ABX9TyPPoNu0UVDX1HeUKz56fFWU",
      "include_colab_link": true
    },
    "kernelspec": {
      "name": "python3",
      "display_name": "Python 3"
    },
    "language_info": {
      "name": "python"
    }
  },
  "cells": [
    {
      "cell_type": "markdown",
      "metadata": {
        "id": "view-in-github",
        "colab_type": "text"
      },
      "source": [
        "<a href=\"https://colab.research.google.com/github/metaphorpritam/PythonTutorialFiles/blob/main/First_Order_Functions%2C_Closure.ipynb\" target=\"_parent\"><img src=\"https://colab.research.google.com/assets/colab-badge.svg\" alt=\"Open In Colab\"/></a>"
      ]
    },
    {
      "cell_type": "code",
      "execution_count": null,
      "metadata": {
        "id": "233vysU09TRj"
      },
      "outputs": [],
      "source": [
        "#Decorators\n",
        "#A quick recap of closure\n",
        "def outer_function(msg):\n",
        "  def inner_function():\n",
        "    print(msg)\n",
        "\n",
        "  return inner_function\n",
        "\n",
        "hi_func = outer_function('hi')\n",
        "bye_func = outer_function('Bye')\n",
        "\n"
      ]
    },
    {
      "cell_type": "code",
      "source": [
        "hi_func()\n",
        "bye_func()"
      ],
      "metadata": {
        "colab": {
          "base_uri": "https://localhost:8080/"
        },
        "id": "0j8KyLMQBM_9",
        "outputId": "83a95d40-0f6f-4204-f496-af5d74acfe94"
      },
      "execution_count": null,
      "outputs": [
        {
          "output_type": "stream",
          "name": "stdout",
          "text": [
            "hi\n",
            "Bye\n"
          ]
        }
      ]
    },
    {
      "cell_type": "code",
      "source": [
        "#Decorator function Example\n",
        "\n",
        "def decorator_function(original_function):\n",
        "  def wrapper_function():\n",
        "    print(\"Wrapper executed this before {}\".format(original_function.__name__))\n",
        "    return original_function()\n",
        "  return wrapper_function\n",
        "\n",
        "def display():\n",
        "  print('display function ran')"
      ],
      "metadata": {
        "id": "8-oHo9obE6m3"
      },
      "execution_count": null,
      "outputs": []
    },
    {
      "cell_type": "code",
      "source": [
        "decorated_display = decorator_function(display)\n",
        "\n",
        "decorated_display()"
      ],
      "metadata": {
        "colab": {
          "base_uri": "https://localhost:8080/"
        },
        "id": "t_svypnOIdj2",
        "outputId": "77f61a99-a592-419c-96fd-56997cd0bf4c"
      },
      "execution_count": null,
      "outputs": [
        {
          "output_type": "stream",
          "name": "stdout",
          "text": [
            "Wrapper executed this before display\n",
            "display function ran\n"
          ]
        }
      ]
    },
    {
      "cell_type": "code",
      "source": [
        "#First Order Function: Accepts, and returns functions\n",
        "\n",
        "def square(x):\n",
        "  return x*x\n",
        "\n",
        "\n",
        "def my_map(func, arg_list):\n",
        "  result = []\n",
        "  for i in arg_list:\n",
        "    result.append(func(i))\n",
        "  return result\n",
        "\n"
      ],
      "metadata": {
        "id": "MYXb5aH2ZRIt"
      },
      "execution_count": null,
      "outputs": []
    },
    {
      "cell_type": "code",
      "source": [
        "squares = my_map(square, [1, 2, 3, 4, 5])\n",
        "print(squares)"
      ],
      "metadata": {
        "colab": {
          "base_uri": "https://localhost:8080/"
        },
        "id": "pVDf63dzZqqs",
        "outputId": "e01483bb-e086-44c1-80bf-3506d668d44f"
      },
      "execution_count": null,
      "outputs": [
        {
          "output_type": "stream",
          "name": "stdout",
          "text": [
            "[1, 4, 9, 16, 25]\n"
          ]
        }
      ]
    },
    {
      "cell_type": "code",
      "source": [
        "#Cube example\n",
        "\n",
        "def cube(x):\n",
        "  return x**3\n",
        "\n",
        "cubes = my_map(cube, [1, 2, 3, 4, 5])\n",
        "\n",
        "print(cubes)"
      ],
      "metadata": {
        "colab": {
          "base_uri": "https://localhost:8080/"
        },
        "id": "2xufVwi7Z1Nk",
        "outputId": "91f94270-3c7e-4bb2-c7c8-2bf534e01be0"
      },
      "execution_count": null,
      "outputs": [
        {
          "output_type": "stream",
          "name": "stdout",
          "text": [
            "[1, 8, 27, 64, 125]\n"
          ]
        }
      ]
    },
    {
      "cell_type": "code",
      "source": [
        "#Simple Example\n",
        "# A function taking a variable and returning a function from a function inside it.\n",
        "def logger(msg):\n",
        "\n",
        "  def log_message():\n",
        "    print('Log:', msg)\n",
        "\n",
        "  return log_message\n",
        "\n",
        "log_hi = logger(\"Hi!\")\n",
        "log_hi()"
      ],
      "metadata": {
        "colab": {
          "base_uri": "https://localhost:8080/"
        },
        "id": "EtXBwi1_bVnm",
        "outputId": "3225a5e5-f5c1-4651-d693-06e4dcdffd16"
      },
      "execution_count": null,
      "outputs": [
        {
          "output_type": "stream",
          "name": "stdout",
          "text": [
            "Log: Hi!\n"
          ]
        }
      ]
    },
    {
      "cell_type": "code",
      "source": [
        "#Another Example of First Order Function and closure\n",
        "\n",
        "def html_tag(tag):\n",
        "\n",
        "  def wrap_text(msg):\n",
        "    print('<{0}>{1}</{0}>'.format(tag, msg))\n",
        "  return wrap_text"
      ],
      "metadata": {
        "id": "Z7LLf2acfcx5"
      },
      "execution_count": null,
      "outputs": []
    },
    {
      "cell_type": "code",
      "source": [
        "print_h1 = html_tag('h1')\n",
        "print_h1('Test Headline!')\n",
        "print_h1('Another Headline!')\n",
        "\n",
        "print_p = html_tag('p')\n",
        "print_p('Test Paragraph')"
      ],
      "metadata": {
        "colab": {
          "base_uri": "https://localhost:8080/"
        },
        "id": "3q0Re6waf7DP",
        "outputId": "2c5fdc69-692c-4622-de6f-8ad11846fd74"
      },
      "execution_count": null,
      "outputs": [
        {
          "output_type": "stream",
          "name": "stdout",
          "text": [
            "<h1>Test Headline!</h1>\n",
            "<h1>Another Headline!</h1>\n",
            "<p>Test Paragraph</p>\n"
          ]
        }
      ]
    },
    {
      "cell_type": "code",
      "source": [
        "# What are *args and **kwargs\n",
        "def foo(required, *args, **kwargs):\n",
        "  print(required)\n",
        "  if args:\n",
        "    print(args)\n",
        "  if kwargs:\n",
        "    print(kwargs)"
      ],
      "metadata": {
        "id": "wtIvLoUQjTcm"
      },
      "execution_count": null,
      "outputs": []
    },
    {
      "cell_type": "code",
      "source": [
        "foo('hello', 1, 2, 3, key1 = 'value', key2 = 1024)"
      ],
      "metadata": {
        "colab": {
          "base_uri": "https://localhost:8080/"
        },
        "id": "34-yIfXjjnYC",
        "outputId": "3c6e85fb-7a63-4c03-b037-5795eff173da"
      },
      "execution_count": null,
      "outputs": [
        {
          "output_type": "stream",
          "name": "stdout",
          "text": [
            "hello\n",
            "(1, 2, 3)\n",
            "{'key1': 'value', 'key2': 1024}\n"
          ]
        }
      ]
    },
    {
      "cell_type": "code",
      "source": [
        "def foo(x, *args, **kwargs):\n",
        "  kwargs['name'] = 'Alice'\n",
        "  new_args = args + ('extra', )\n",
        "  bar(x, *new_args, **kwargs)"
      ],
      "metadata": {
        "id": "ctN8hgTfkPgN"
      },
      "execution_count": null,
      "outputs": []
    },
    {
      "cell_type": "code",
      "source": [
        "class Car:\n",
        "  def __init__(self, color, mileage):\n",
        "    self.color = color \n",
        "    self.mileage = mileage\n",
        "\n",
        "class AlwaysBlueCar(Car):\n",
        "  def __init__(self, *args, **kwargs):\n",
        "    super().__init__(*args, **kwargs)\n",
        "    self. color = 'blue'"
      ],
      "metadata": {
        "id": "enWHx2ZKnXfa"
      },
      "execution_count": null,
      "outputs": []
    },
    {
      "cell_type": "code",
      "source": [
        "Nano = Car('Red', 30)\n",
        "Blue_Nano = AlwaysBlueCar('Blue', 30)\n",
        "\n",
        "print(Blue_Nano)"
      ],
      "metadata": {
        "colab": {
          "base_uri": "https://localhost:8080/"
        },
        "id": "YLnBdjv4n9Ch",
        "outputId": "3a8cf993-6bc4-4997-b210-fbcc0b3d59f3"
      },
      "execution_count": null,
      "outputs": [
        {
          "output_type": "stream",
          "name": "stdout",
          "text": [
            "<__main__.AlwaysBlueCar object at 0x7f2cf4f32490>\n"
          ]
        }
      ]
    },
    {
      "cell_type": "code",
      "source": [
        "# Closures:\n",
        "\"\"\" A closure is a record storing a function together with an environment:\n",
        "A mapping associating each free variable of the function with the value or \n",
        "storage location to which the name was bound when the closure was created. \n",
        "A closure, unlike a plain function, allows the function to access those \n",
        "captured variables through the closure\"s refrence  to them, even when the \n",
        "function is invoked outside their 'scope'.\n",
        "\"\"\"\n"
      ],
      "metadata": {
        "colab": {
          "base_uri": "https://localhost:8080/",
          "height": 122
        },
        "id": "dCg96WLv16FM",
        "outputId": "c7d909a5-8b9a-4055-de45-05c62e6f2e88"
      },
      "execution_count": null,
      "outputs": [
        {
          "output_type": "execute_result",
          "data": {
            "application/vnd.google.colaboratory.intrinsic+json": {
              "type": "string"
            },
            "text/plain": [
              "' A closure is a record storing a function together with an environment:\\nA mapping associating each free variable of the function with the value or \\nstorage location to which the name was bound when the closure was created. \\nA closure, unlike a plain function, allows the function to access those \\ncaptured variables through the closure\"s refrence  to them, even when the \\nfunction is invoked outside their \\'scope\\'.\\n'"
            ]
          },
          "metadata": {},
          "execution_count": 35
        }
      ]
    },
    {
      "cell_type": "code",
      "source": [
        "#Closure Example\n",
        "\n",
        "import logging\n",
        "logging.basicConfig(filename = 'example.log', level = logging.INFO)"
      ],
      "metadata": {
        "id": "-UyMko3LA8_R"
      },
      "execution_count": null,
      "outputs": []
    },
    {
      "cell_type": "code",
      "source": [
        "def logger(func):\n",
        "  def log_func(*args):\n",
        "    logging.info('Running \"{}\" with arguments {}'.format(func.__name__, args))\n",
        "    print(func(*args))\n",
        "\n",
        "  return log_func"
      ],
      "metadata": {
        "id": "qSZZOeU1BUPV"
      },
      "execution_count": null,
      "outputs": []
    },
    {
      "cell_type": "code",
      "source": [
        "def add(x, y):\n",
        "  return x+y\n",
        "\n",
        "def sub(x, y):\n",
        "  return x-y"
      ],
      "metadata": {
        "id": "BtBkCpydB0Wi"
      },
      "execution_count": null,
      "outputs": []
    },
    {
      "cell_type": "code",
      "source": [
        "add_logger = logger(add)\n",
        "sub_logger = logger(sub)\n",
        "\n",
        "add_logger(3, 5)\n",
        "sub_logger(10, 4)"
      ],
      "metadata": {
        "colab": {
          "base_uri": "https://localhost:8080/"
        },
        "id": "quURjpERB-zN",
        "outputId": "dd31d53b-3b23-4272-cb7e-b905c46953af"
      },
      "execution_count": null,
      "outputs": [
        {
          "output_type": "stream",
          "name": "stdout",
          "text": [
            "8\n",
            "6\n"
          ]
        }
      ]
    }
  ]
}